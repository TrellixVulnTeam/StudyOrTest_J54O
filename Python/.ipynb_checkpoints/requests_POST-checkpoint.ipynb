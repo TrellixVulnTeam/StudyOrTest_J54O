{
 "cells": [
  {
   "cell_type": "markdown",
   "id": "cd8693b7",
   "metadata": {},
   "source": [
    "The thing I test is sending data to the WebServer made by flask locally.\n",
    "\n",
    "- destination : 127.0.0.1:5000/update_react_num_per_sec"
   ]
  },
  {
   "cell_type": "code",
   "execution_count": 2,
   "id": "93e8aa3f",
   "metadata": {},
   "outputs": [],
   "source": [
    "import requests"
   ]
  },
  {
   "cell_type": "code",
   "execution_count": 15,
   "id": "19107a5b",
   "metadata": {},
   "outputs": [],
   "source": [
    "pload = {'positive_num': 20, 'neutral_num': 10, 'negative_num': 5}"
   ]
  },
  {
   "cell_type": "code",
   "execution_count": 16,
   "id": "ce9c1f00",
   "metadata": {},
   "outputs": [],
   "source": [
    "r = requests.post('http://127.0.0.1:5000/update_react_num_per_sec', data = pload)"
   ]
  },
  {
   "cell_type": "code",
   "execution_count": 18,
   "id": "f1dcfc2a",
   "metadata": {},
   "outputs": [
    {
     "data": {
      "text/plain": [
       "b'success'"
      ]
     },
     "execution_count": 18,
     "metadata": {},
     "output_type": "execute_result"
    }
   ],
   "source": [
    "r.content"
   ]
  }
 ],
 "metadata": {
  "kernelspec": {
   "display_name": "Python 3",
   "language": "python",
   "name": "python3"
  },
  "language_info": {
   "codemirror_mode": {
    "name": "ipython",
    "version": 3
   },
   "file_extension": ".py",
   "mimetype": "text/x-python",
   "name": "python",
   "nbconvert_exporter": "python",
   "pygments_lexer": "ipython3",
   "version": "3.8.8"
  }
 },
 "nbformat": 4,
 "nbformat_minor": 5
}
