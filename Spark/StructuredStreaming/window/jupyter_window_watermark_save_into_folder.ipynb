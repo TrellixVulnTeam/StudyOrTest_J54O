{
 "cells": [
  {
   "cell_type": "markdown",
   "id": "f1ba4bb3",
   "metadata": {},
   "source": [
    "# Window operation on event time\n",
    "1. This document is mostly based on the \n",
    "<a href=\"https://spark.apache.org/docs/latest/structured-streaming-programming-guide.html#window-operations-on-event-time\"> [link] </a>\n",
    "\n",
    "2. Run the generator from data_generator.ipynb in the current folder. "
   ]
  },
  {
   "cell_type": "markdown",
   "id": "159fd656",
   "metadata": {},
   "source": [
    "# Load SparkSession and Data"
   ]
  },
  {
   "cell_type": "code",
   "execution_count": 1,
   "id": "39f42c7f",
   "metadata": {},
   "outputs": [
    {
     "name": "stdout",
     "output_type": "stream",
     "text": [
      "DataFrame[created_at: string, sentiment_level: string]\n",
      "+-------------------+---------------+\n",
      "|created_at         |sentiment_level|\n",
      "+-------------------+---------------+\n",
      "|2021-10-29T18:10:09|2              |\n",
      "+-------------------+---------------+\n",
      "\n"
     ]
    }
   ],
   "source": [
    "from pyspark.sql import SparkSession\n",
    "from pyspark.sql.types import StructField, StringType\n",
    "from pyspark.sql.functions import udf\n",
    "from pyspark.sql.functions import col\n",
    "\n",
    "from pyspark.sql.functions import to_timestamp\n",
    "from pyspark.sql import types\n",
    "\n",
    "spark = SparkSession \\\n",
    "    .builder \\\n",
    "    .appName(\"Window Operations on Event Time\") \\\n",
    "    .getOrCreate()\n",
    "\n",
    "static_df = spark.read.json(\"./data/sample.txt\")\n",
    "\n",
    "schema = static_df.schema\n",
    "\n",
    "df = spark.readStream.format(\"json\").schema(schema).option(\"maxFilesPerTrigger\", 1).load(\"./data/\")\n",
    "\n",
    "print(df)\n",
    "static_df.show(5, truncate=False)"
   ]
  },
  {
   "cell_type": "markdown",
   "id": "3322cff5",
   "metadata": {},
   "source": [
    "# Window operation with water mark\n",
    "### Conditions for watermarking to clean aggregation state <a href=\"https://spark.apache.org/docs/latest/structured-streaming-programming-guide.html#quick-example\">[link]</a> "
   ]
  },
  {
   "cell_type": "code",
   "execution_count": 2,
   "id": "03314b4b",
   "metadata": {},
   "outputs": [],
   "source": [
    "from pyspark.sql.types import TimestampType\n",
    "tsDF = df.select(col(\"created_at\").cast(TimestampType()), col(\"sentiment_level\"))"
   ]
  },
  {
   "cell_type": "code",
   "execution_count": 3,
   "id": "5e2e2b19",
   "metadata": {},
   "outputs": [],
   "source": [
    "# If you set a WaterMark with a time, it blocks not to be data included x hours/minutes/seconds passed.\n",
    "\n",
    "from pyspark.sql.functions import window\n",
    "\n",
    "windowedCounts = tsDF \\\n",
    "    .withWatermark(\"created_at\", \"10 seconds\") \\\n",
    "    .groupBy(\n",
    "        window(col(\"created_at\"), \"10 seconds\", \"5 seconds\").alias(\"created_at\"),\n",
    "        col(\"sentiment_level\")) \\\n",
    "    .count()"
   ]
  },
  {
   "cell_type": "markdown",
   "id": "a9ebaa64",
   "metadata": {},
   "source": [
    "# Save your calculated data into the folder."
   ]
  },
  {
   "cell_type": "code",
   "execution_count": 5,
   "id": "feee3722",
   "metadata": {},
   "outputs": [],
   "source": [
    "launch = windowedCounts \\\n",
    "    .writeStream \\\n",
    "    .format(\"parquet\") \\\n",
    "    .option(\"path\", \"./windowsedCounts_output/\") \\\n",
    "    .option(\"checkpointLocation\", \"./windowsedCounts_checkpoint/\") \\\n",
    "    .format(\"memory\") \\\n",
    "    .queryName(\"df\") \\\n",
    "\n",
    ".start()"
   ]
  },
  {
   "cell_type": "code",
   "execution_count": 6,
   "id": "b8600722",
   "metadata": {},
   "outputs": [
    {
     "ename": "AnalysisException",
     "evalue": "Table or view not found: df; line 1 pos 14;\n'Project [*]\n+- 'UnresolvedRelation [df], [], false\n",
     "output_type": "error",
     "traceback": [
      "\u001b[0;31m---------------------------------------------------------------------------\u001b[0m",
      "\u001b[0;31mAnalysisException\u001b[0m                         Traceback (most recent call last)",
      "\u001b[0;32m<ipython-input-6-b756857e519c>\u001b[0m in \u001b[0;36m<module>\u001b[0;34m\u001b[0m\n\u001b[0;32m----> 1\u001b[0;31m \u001b[0mspark\u001b[0m\u001b[0;34m.\u001b[0m\u001b[0msql\u001b[0m\u001b[0;34m(\u001b[0m\u001b[0;34m\"select * from df\"\u001b[0m\u001b[0;34m)\u001b[0m\u001b[0;34m\u001b[0m\u001b[0;34m\u001b[0m\u001b[0m\n\u001b[0m",
      "\u001b[0;32m~/opt/anaconda3/lib/python3.8/site-packages/pyspark/sql/session.py\u001b[0m in \u001b[0;36msql\u001b[0;34m(self, sqlQuery)\u001b[0m\n\u001b[1;32m    721\u001b[0m         \u001b[0;34m[\u001b[0m\u001b[0mRow\u001b[0m\u001b[0;34m(\u001b[0m\u001b[0mf1\u001b[0m\u001b[0;34m=\u001b[0m\u001b[0;36m1\u001b[0m\u001b[0;34m,\u001b[0m \u001b[0mf2\u001b[0m\u001b[0;34m=\u001b[0m\u001b[0;34m'row1'\u001b[0m\u001b[0;34m)\u001b[0m\u001b[0;34m,\u001b[0m \u001b[0mRow\u001b[0m\u001b[0;34m(\u001b[0m\u001b[0mf1\u001b[0m\u001b[0;34m=\u001b[0m\u001b[0;36m2\u001b[0m\u001b[0;34m,\u001b[0m \u001b[0mf2\u001b[0m\u001b[0;34m=\u001b[0m\u001b[0;34m'row2'\u001b[0m\u001b[0;34m)\u001b[0m\u001b[0;34m,\u001b[0m \u001b[0mRow\u001b[0m\u001b[0;34m(\u001b[0m\u001b[0mf1\u001b[0m\u001b[0;34m=\u001b[0m\u001b[0;36m3\u001b[0m\u001b[0;34m,\u001b[0m \u001b[0mf2\u001b[0m\u001b[0;34m=\u001b[0m\u001b[0;34m'row3'\u001b[0m\u001b[0;34m)\u001b[0m\u001b[0;34m]\u001b[0m\u001b[0;34m\u001b[0m\u001b[0;34m\u001b[0m\u001b[0m\n\u001b[1;32m    722\u001b[0m         \"\"\"\n\u001b[0;32m--> 723\u001b[0;31m         \u001b[0;32mreturn\u001b[0m \u001b[0mDataFrame\u001b[0m\u001b[0;34m(\u001b[0m\u001b[0mself\u001b[0m\u001b[0;34m.\u001b[0m\u001b[0m_jsparkSession\u001b[0m\u001b[0;34m.\u001b[0m\u001b[0msql\u001b[0m\u001b[0;34m(\u001b[0m\u001b[0msqlQuery\u001b[0m\u001b[0;34m)\u001b[0m\u001b[0;34m,\u001b[0m \u001b[0mself\u001b[0m\u001b[0;34m.\u001b[0m\u001b[0m_wrapped\u001b[0m\u001b[0;34m)\u001b[0m\u001b[0;34m\u001b[0m\u001b[0;34m\u001b[0m\u001b[0m\n\u001b[0m\u001b[1;32m    724\u001b[0m \u001b[0;34m\u001b[0m\u001b[0m\n\u001b[1;32m    725\u001b[0m     \u001b[0;32mdef\u001b[0m \u001b[0mtable\u001b[0m\u001b[0;34m(\u001b[0m\u001b[0mself\u001b[0m\u001b[0;34m,\u001b[0m \u001b[0mtableName\u001b[0m\u001b[0;34m)\u001b[0m\u001b[0;34m:\u001b[0m\u001b[0;34m\u001b[0m\u001b[0;34m\u001b[0m\u001b[0m\n",
      "\u001b[0;32m~/opt/anaconda3/lib/python3.8/site-packages/py4j/java_gateway.py\u001b[0m in \u001b[0;36m__call__\u001b[0;34m(self, *args)\u001b[0m\n\u001b[1;32m   1302\u001b[0m \u001b[0;34m\u001b[0m\u001b[0m\n\u001b[1;32m   1303\u001b[0m         \u001b[0manswer\u001b[0m \u001b[0;34m=\u001b[0m \u001b[0mself\u001b[0m\u001b[0;34m.\u001b[0m\u001b[0mgateway_client\u001b[0m\u001b[0;34m.\u001b[0m\u001b[0msend_command\u001b[0m\u001b[0;34m(\u001b[0m\u001b[0mcommand\u001b[0m\u001b[0;34m)\u001b[0m\u001b[0;34m\u001b[0m\u001b[0;34m\u001b[0m\u001b[0m\n\u001b[0;32m-> 1304\u001b[0;31m         return_value = get_return_value(\n\u001b[0m\u001b[1;32m   1305\u001b[0m             answer, self.gateway_client, self.target_id, self.name)\n\u001b[1;32m   1306\u001b[0m \u001b[0;34m\u001b[0m\u001b[0m\n",
      "\u001b[0;32m~/opt/anaconda3/lib/python3.8/site-packages/pyspark/sql/utils.py\u001b[0m in \u001b[0;36mdeco\u001b[0;34m(*a, **kw)\u001b[0m\n\u001b[1;32m    115\u001b[0m                 \u001b[0;31m# Hide where the exception came from that shows a non-Pythonic\u001b[0m\u001b[0;34m\u001b[0m\u001b[0;34m\u001b[0m\u001b[0;34m\u001b[0m\u001b[0m\n\u001b[1;32m    116\u001b[0m                 \u001b[0;31m# JVM exception message.\u001b[0m\u001b[0;34m\u001b[0m\u001b[0;34m\u001b[0m\u001b[0;34m\u001b[0m\u001b[0m\n\u001b[0;32m--> 117\u001b[0;31m                 \u001b[0;32mraise\u001b[0m \u001b[0mconverted\u001b[0m \u001b[0;32mfrom\u001b[0m \u001b[0;32mNone\u001b[0m\u001b[0;34m\u001b[0m\u001b[0;34m\u001b[0m\u001b[0m\n\u001b[0m\u001b[1;32m    118\u001b[0m             \u001b[0;32melse\u001b[0m\u001b[0;34m:\u001b[0m\u001b[0;34m\u001b[0m\u001b[0;34m\u001b[0m\u001b[0m\n\u001b[1;32m    119\u001b[0m                 \u001b[0;32mraise\u001b[0m\u001b[0;34m\u001b[0m\u001b[0;34m\u001b[0m\u001b[0m\n",
      "\u001b[0;31mAnalysisException\u001b[0m: Table or view not found: df; line 1 pos 14;\n'Project [*]\n+- 'UnresolvedRelation [df], [], false\n"
     ]
    }
   ],
   "source": [
    "spark.sql(\"select * from df\")"
   ]
  },
  {
   "cell_type": "code",
   "execution_count": null,
   "id": "79687dcb",
   "metadata": {},
   "outputs": [],
   "source": [
    "import time\n",
    "\n",
    "for _ in range(3):\n",
    "    spark.sql(\"select * from df\").sort(\"created_at\", ascending=False).show(5, truncate=False)\n",
    "    time.sleep(5)"
   ]
  },
  {
   "cell_type": "code",
   "execution_count": null,
   "id": "8e2fbd4e",
   "metadata": {},
   "outputs": [],
   "source": []
  }
 ],
 "metadata": {
  "kernelspec": {
   "display_name": "Python 3",
   "language": "python",
   "name": "python3"
  },
  "language_info": {
   "codemirror_mode": {
    "name": "ipython",
    "version": 3
   },
   "file_extension": ".py",
   "mimetype": "text/x-python",
   "name": "python",
   "nbconvert_exporter": "python",
   "pygments_lexer": "ipython3",
   "version": "3.8.8"
  }
 },
 "nbformat": 4,
 "nbformat_minor": 5
}
