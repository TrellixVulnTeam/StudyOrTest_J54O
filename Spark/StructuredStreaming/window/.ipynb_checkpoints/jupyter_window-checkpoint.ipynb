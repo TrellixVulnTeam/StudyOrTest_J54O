{
 "cells": [
  {
   "cell_type": "markdown",
   "id": "f1ba4bb3",
   "metadata": {},
   "source": [
    "# Window operation on event time\n",
    "This document is mostly based on the \n",
    "<a href=\"https://spark.apache.org/docs/latest/structured-streaming-programming-guide.html#window-operations-on-event-time\"> [link] </a>"
   ]
  },
  {
   "cell_type": "markdown",
   "id": "159fd656",
   "metadata": {},
   "source": [
    "# Load SparkSession and Data"
   ]
  },
  {
   "cell_type": "code",
   "execution_count": 31,
   "id": "39f42c7f",
   "metadata": {},
   "outputs": [
    {
     "name": "stdout",
     "output_type": "stream",
     "text": [
      "DataFrame[created_at: string, sentiment_level: bigint]\n"
     ]
    },
    {
     "data": {
      "text/plain": [
       "[Row(created_at='12:3:2 +0009', sentiment_level=1),\n",
       " Row(created_at='3:11:43 +0000', sentiment_level=1),\n",
       " Row(created_at='0:1:12 +0000', sentiment_level=1),\n",
       " Row(created_at='16:2:27 +0000', sentiment_level=2),\n",
       " Row(created_at='18:15:24 +0000', sentiment_level=0)]"
      ]
     },
     "execution_count": 31,
     "metadata": {},
     "output_type": "execute_result"
    }
   ],
   "source": [
    "from pyspark.sql import SparkSession\n",
    "from pyspark.sql.types import StructField, StringType\n",
    "from pyspark.sql.functions import udf\n",
    "from pyspark.sql.functions import col\n",
    "\n",
    "from pyspark.sql.functions import to_timestamp\n",
    "from pyspark.sql import types\n",
    "\n",
    "spark = SparkSession \\\n",
    "    .builder \\\n",
    "    .appName(\"Window Operations on Event Time\") \\\n",
    "    .getOrCreate()\n",
    "\n",
    "static_df = spark.read.json(\"./data/\")\n",
    "schema = static_df.schema\n",
    "df = spark.readStream.json(\"./data/\", schema=schema)\n",
    "print(df)\n",
    "static_df.take(5)"
   ]
  },
  {
   "cell_type": "markdown",
   "id": "929c7a47",
   "metadata": {},
   "source": [
    "# Preprocessing for window operation"
   ]
  },
  {
   "cell_type": "code",
   "execution_count": 32,
   "id": "9759749b",
   "metadata": {},
   "outputs": [
    {
     "data": {
      "text/plain": [
       "DataFrame[created_at: timestamp, sentiment_level: int]"
      ]
     },
     "execution_count": 32,
     "metadata": {},
     "output_type": "execute_result"
    }
   ],
   "source": [
    "import datetime\n",
    "\n",
    "def from_created_at(x):\n",
    "    \"\"\"\n",
    "    parsing format : \"https://docs.python.org/3/library/datetime.html#datetime.date\"\n",
    "    \n",
    "    The valuable of 'x' has a form of '07:02:44 +0000' \n",
    "    \"\"\"\n",
    "    dt = datetime.datetime.strptime(x, \"%H:%M:%S %z\")\n",
    "    return dt.isoformat()\n",
    "\n",
    "from_created_at_udf = udf(lambda x: from_created_at(x))\n",
    "\n",
    "tsDF = df.select(\n",
    "    to_timestamp(from_created_at_udf(col(\"created_at\"))).alias(\"created_at\"),\n",
    "    col(\"sentiment_level\").cast(types.IntegerType())\n",
    ")\n",
    "tsDF"
   ]
  },
  {
   "cell_type": "code",
   "execution_count": 33,
   "id": "1698d853",
   "metadata": {},
   "outputs": [
    {
     "data": {
      "text/plain": [
       "'1900-01-01T12:03:02+00:09'"
      ]
     },
     "execution_count": 33,
     "metadata": {},
     "output_type": "execute_result"
    }
   ],
   "source": [
    "from_created_at(\"12:3:2 +0009\")"
   ]
  },
  {
   "cell_type": "code",
   "execution_count": 34,
   "id": "6b6bf584",
   "metadata": {},
   "outputs": [
    {
     "data": {
      "text/plain": [
       "'1900-01-01T12:03:02+00:00'"
      ]
     },
     "execution_count": 34,
     "metadata": {},
     "output_type": "execute_result"
    }
   ],
   "source": [
    "from_created_at(\"12:3:2 +0000\")\n"
   ]
  },
  {
   "cell_type": "markdown",
   "id": "3322cff5",
   "metadata": {},
   "source": [
    "# Window operation"
   ]
  },
  {
   "cell_type": "code",
   "execution_count": 35,
   "id": "60e62165",
   "metadata": {},
   "outputs": [],
   "source": [
    "from pyspark.sql.functions import window"
   ]
  },
  {
   "cell_type": "code",
   "execution_count": 36,
   "id": "5e2e2b19",
   "metadata": {},
   "outputs": [],
   "source": [
    "windowsedCounts = tsDF.groupBy(\n",
    "    window(tsDF.created_at, \"4 hours\", \"2 hours\").alias(\"created_at\"),\n",
    "    tsDF.sentiment_level\n",
    ").count()"
   ]
  },
  {
   "cell_type": "code",
   "execution_count": 37,
   "id": "79c0aea8",
   "metadata": {},
   "outputs": [],
   "source": [
    "windowsedCounts02 = tsDF.groupBy(\n",
    "    window(tsDF.created_at, \"10 minutes\", \"5 minutes\").alias(\"created_at\"),\n",
    "    tsDF.sentiment_level\n",
    ").count()"
   ]
  },
  {
   "cell_type": "code",
   "execution_count": 38,
   "id": "9c87c399",
   "metadata": {},
   "outputs": [],
   "source": [
    "launch = windowsedCounts \\\n",
    "    .writeStream \\\n",
    "    .outputMode(\"complete\") \\\n",
    "    .queryName(\"df\") \\\n",
    "    .format(\"memory\") \\\n",
    "    .start()"
   ]
  },
  {
   "cell_type": "code",
   "execution_count": 39,
   "id": "a94d081b",
   "metadata": {},
   "outputs": [],
   "source": [
    "launch = windowsedCounts \\\n",
    "    .writeStream \\\n",
    "    .outputMode(\"complete\") \\\n",
    "    .queryName(\"df02\") \\\n",
    "    .format(\"memory\") \\\n",
    "    .start()"
   ]
  },
  {
   "cell_type": "code",
   "execution_count": 42,
   "id": "029462bd",
   "metadata": {},
   "outputs": [
    {
     "data": {
      "text/plain": [
       "[Row(created_at=Row(start=datetime.datetime(1900, 1, 1, 6, 27, 52), end=datetime.datetime(1900, 1, 1, 10, 27, 52)), sentiment_level=2, count=3),\n",
       " Row(created_at=Row(start=datetime.datetime(1900, 1, 1, 6, 27, 52), end=datetime.datetime(1900, 1, 1, 10, 27, 52)), sentiment_level=1, count=2),\n",
       " Row(created_at=Row(start=datetime.datetime(1900, 1, 1, 6, 27, 52), end=datetime.datetime(1900, 1, 1, 10, 27, 52)), sentiment_level=0, count=1),\n",
       " Row(created_at=Row(start=datetime.datetime(1900, 1, 1, 8, 27, 52), end=datetime.datetime(1900, 1, 1, 12, 27, 52)), sentiment_level=1, count=4),\n",
       " Row(created_at=Row(start=datetime.datetime(1900, 1, 1, 8, 27, 52), end=datetime.datetime(1900, 1, 1, 12, 27, 52)), sentiment_level=0, count=2),\n",
       " Row(created_at=Row(start=datetime.datetime(1900, 1, 1, 8, 27, 52), end=datetime.datetime(1900, 1, 1, 12, 27, 52)), sentiment_level=2, count=4),\n",
       " Row(created_at=Row(start=datetime.datetime(1900, 1, 1, 10, 27, 52), end=datetime.datetime(1900, 1, 1, 14, 27, 52)), sentiment_level=2, count=2),\n",
       " Row(created_at=Row(start=datetime.datetime(1900, 1, 1, 10, 27, 52), end=datetime.datetime(1900, 1, 1, 14, 27, 52)), sentiment_level=1, count=4),\n",
       " Row(created_at=Row(start=datetime.datetime(1900, 1, 1, 10, 27, 52), end=datetime.datetime(1900, 1, 1, 14, 27, 52)), sentiment_level=0, count=1),\n",
       " Row(created_at=Row(start=datetime.datetime(1900, 1, 1, 12, 27, 52), end=datetime.datetime(1900, 1, 1, 16, 27, 52)), sentiment_level=2, count=3)]"
      ]
     },
     "execution_count": 42,
     "metadata": {},
     "output_type": "execute_result"
    }
   ],
   "source": [
    "spark.sql(\"select * from df\").sort(\"created_at\").take(10)"
   ]
  },
  {
   "cell_type": "code",
   "execution_count": 50,
   "id": "57bf7640",
   "metadata": {},
   "outputs": [
    {
     "data": {
      "text/plain": [
       "[Row(created_at=Row(start=datetime.datetime(1900, 1, 1, 6, 27, 52), end=datetime.datetime(1900, 1, 1, 10, 27, 52)), sentiment_level=0, count=1),\n",
       " Row(created_at=Row(start=datetime.datetime(1900, 1, 1, 6, 27, 52), end=datetime.datetime(1900, 1, 1, 10, 27, 52)), sentiment_level=1, count=2),\n",
       " Row(created_at=Row(start=datetime.datetime(1900, 1, 1, 6, 27, 52), end=datetime.datetime(1900, 1, 1, 10, 27, 52)), sentiment_level=2, count=3),\n",
       " Row(created_at=Row(start=datetime.datetime(1900, 1, 1, 8, 27, 52), end=datetime.datetime(1900, 1, 1, 12, 27, 52)), sentiment_level=2, count=4),\n",
       " Row(created_at=Row(start=datetime.datetime(1900, 1, 1, 8, 27, 52), end=datetime.datetime(1900, 1, 1, 12, 27, 52)), sentiment_level=0, count=2),\n",
       " Row(created_at=Row(start=datetime.datetime(1900, 1, 1, 8, 27, 52), end=datetime.datetime(1900, 1, 1, 12, 27, 52)), sentiment_level=1, count=4),\n",
       " Row(created_at=Row(start=datetime.datetime(1900, 1, 1, 10, 27, 52), end=datetime.datetime(1900, 1, 1, 14, 27, 52)), sentiment_level=1, count=4),\n",
       " Row(created_at=Row(start=datetime.datetime(1900, 1, 1, 10, 27, 52), end=datetime.datetime(1900, 1, 1, 14, 27, 52)), sentiment_level=2, count=2),\n",
       " Row(created_at=Row(start=datetime.datetime(1900, 1, 1, 10, 27, 52), end=datetime.datetime(1900, 1, 1, 14, 27, 52)), sentiment_level=0, count=1),\n",
       " Row(created_at=Row(start=datetime.datetime(1900, 1, 1, 12, 27, 52), end=datetime.datetime(1900, 1, 1, 16, 27, 52)), sentiment_level=2, count=3)]"
      ]
     },
     "execution_count": 50,
     "metadata": {},
     "output_type": "execute_result"
    }
   ],
   "source": [
    "spark.sql(\"select * from df02\").sort(\"created_at\").take(10)"
   ]
  },
  {
   "cell_type": "code",
   "execution_count": 30,
   "id": "b6753ef6",
   "metadata": {},
   "outputs": [],
   "source": [
    "spark.stop()"
   ]
  }
 ],
 "metadata": {
  "kernelspec": {
   "display_name": "Python 3",
   "language": "python",
   "name": "python3"
  },
  "language_info": {
   "codemirror_mode": {
    "name": "ipython",
    "version": 3
   },
   "file_extension": ".py",
   "mimetype": "text/x-python",
   "name": "python",
   "nbconvert_exporter": "python",
   "pygments_lexer": "ipython3",
   "version": "3.8.8"
  }
 },
 "nbformat": 4,
 "nbformat_minor": 5
}
