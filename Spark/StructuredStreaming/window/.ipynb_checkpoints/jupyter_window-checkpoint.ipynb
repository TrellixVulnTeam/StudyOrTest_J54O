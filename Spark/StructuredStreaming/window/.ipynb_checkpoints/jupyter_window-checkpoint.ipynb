{
 "cells": [
  {
   "cell_type": "markdown",
   "id": "f1ba4bb3",
   "metadata": {},
   "source": [
    "# Window operation on event time\n",
    "1. This document is mostly based on the \n",
    "<a href=\"https://spark.apache.org/docs/latest/structured-streaming-programming-guide.html#window-operations-on-event-time\"> [link] </a>\n",
    "\n",
    "2. Run the generator from data_generator.ipynb in the current folder. "
   ]
  },
  {
   "cell_type": "markdown",
   "id": "159fd656",
   "metadata": {},
   "source": [
    "# Load SparkSession and Data"
   ]
  },
  {
   "cell_type": "code",
   "execution_count": 1,
   "id": "39f42c7f",
   "metadata": {},
   "outputs": [
    {
     "name": "stdout",
     "output_type": "stream",
     "text": [
      "DataFrame[created_at: string, sentiment_level: string]\n",
      "+-------------------+---------------+\n",
      "|created_at         |sentiment_level|\n",
      "+-------------------+---------------+\n",
      "|2021-10-29T18:10:09|2              |\n",
      "+-------------------+---------------+\n",
      "\n"
     ]
    }
   ],
   "source": [
    "from pyspark.sql import SparkSession\n",
    "from pyspark.sql.types import StructField, StringType\n",
    "from pyspark.sql.functions import udf\n",
    "from pyspark.sql.functions import col\n",
    "\n",
    "from pyspark.sql.functions import to_timestamp\n",
    "from pyspark.sql import types\n",
    "\n",
    "spark = SparkSession \\\n",
    "    .builder \\\n",
    "    .appName(\"Window Operations on Event Time\") \\\n",
    "    .getOrCreate()\n",
    "\n",
    "static_df = spark.read.json(\"./data/sample.txt\")\n",
    "schema = static_df.schema\n",
    "\n",
    "df = spark.readStream.format(\"json\").schema(schema).option(\"maxFilesPerTrigger\", 1).load(\"./data/\")\n",
    "\n",
    "print(df)\n",
    "static_df.show(5, truncate=False)"
   ]
  },
  {
   "cell_type": "markdown",
   "id": "3322cff5",
   "metadata": {},
   "source": [
    "# Window operation"
   ]
  },
  {
   "cell_type": "code",
   "execution_count": 2,
   "id": "5e2e2b19",
   "metadata": {},
   "outputs": [],
   "source": [
    "from pyspark.sql.functions import window\n",
    "\n",
    "windowsedCounts = df.groupBy(\n",
    "    window(df.created_at, \"10 seconds\", \"2 seconds\").alias(\"created_at\"),\n",
    "    df.sentiment_level\n",
    ").count()"
   ]
  },
  {
   "cell_type": "code",
   "execution_count": 3,
   "id": "9c87c399",
   "metadata": {},
   "outputs": [],
   "source": [
    "launch = windowsedCounts \\\n",
    "    .writeStream \\\n",
    "    .outputMode(\"complete\") \\\n",
    "    .queryName(\"df\") \\\n",
    "    .format(\"memory\") \\\n",
    ".start()"
   ]
  },
  {
   "cell_type": "code",
   "execution_count": null,
   "id": "029462bd",
   "metadata": {},
   "outputs": [
    {
     "name": "stdout",
     "output_type": "stream",
     "text": [
      "+------------------------------------------+---------------+-----+\n",
      "|created_at                                |sentiment_level|count|\n",
      "+------------------------------------------+---------------+-----+\n",
      "|{2021-10-29 20:27:14, 2021-10-29 20:27:24}|2              |2    |\n",
      "|{2021-10-29 20:27:14, 2021-10-29 20:27:24}|1              |2    |\n",
      "|{2021-10-29 20:27:14, 2021-10-29 20:27:24}|0              |1    |\n",
      "|{2021-10-29 20:27:12, 2021-10-29 20:27:22}|0              |3    |\n",
      "|{2021-10-29 20:27:12, 2021-10-29 20:27:22}|2              |2    |\n",
      "+------------------------------------------+---------------+-----+\n",
      "only showing top 5 rows\n",
      "\n",
      "+------------------------------------------+---------------+-----+\n",
      "|created_at                                |sentiment_level|count|\n",
      "+------------------------------------------+---------------+-----+\n",
      "|{2021-10-29 20:27:22, 2021-10-29 20:27:32}|1              |2    |\n",
      "|{2021-10-29 20:27:22, 2021-10-29 20:27:32}|2              |1    |\n",
      "|{2021-10-29 20:27:22, 2021-10-29 20:27:32}|0              |2    |\n",
      "|{2021-10-29 20:27:20, 2021-10-29 20:27:30}|0              |3    |\n",
      "|{2021-10-29 20:27:20, 2021-10-29 20:27:30}|2              |3    |\n",
      "+------------------------------------------+---------------+-----+\n",
      "only showing top 5 rows\n",
      "\n",
      "+------------------------------------------+---------------+-----+\n",
      "|created_at                                |sentiment_level|count|\n",
      "+------------------------------------------+---------------+-----+\n",
      "|{2021-10-29 20:27:30, 2021-10-29 20:27:40}|0              |2    |\n",
      "|{2021-10-29 20:27:30, 2021-10-29 20:27:40}|2              |2    |\n",
      "|{2021-10-29 20:27:30, 2021-10-29 20:27:40}|1              |1    |\n",
      "|{2021-10-29 20:27:28, 2021-10-29 20:27:38}|0              |5    |\n",
      "|{2021-10-29 20:27:28, 2021-10-29 20:27:38}|1              |3    |\n",
      "+------------------------------------------+---------------+-----+\n",
      "only showing top 5 rows\n",
      "\n",
      "+------------------------------------------+---------------+-----+\n",
      "|created_at                                |sentiment_level|count|\n",
      "+------------------------------------------+---------------+-----+\n",
      "|{2021-10-29 20:27:38, 2021-10-29 20:27:48}|0              |4    |\n",
      "|{2021-10-29 20:27:38, 2021-10-29 20:27:48}|1              |1    |\n",
      "|{2021-10-29 20:27:36, 2021-10-29 20:27:46}|0              |6    |\n",
      "|{2021-10-29 20:27:36, 2021-10-29 20:27:46}|1              |4    |\n",
      "|{2021-10-29 20:27:34, 2021-10-29 20:27:44}|0              |8    |\n",
      "+------------------------------------------+---------------+-----+\n",
      "only showing top 5 rows\n",
      "\n"
     ]
    }
   ],
   "source": [
    "import time\n",
    "\n",
    "while True:\n",
    "    spark.sql(\"select * from df\").sort(\"created_at\", ascending=False).show(5, truncate=False)\n",
    "    time.sleep(6)"
   ]
  }
 ],
 "metadata": {
  "kernelspec": {
   "display_name": "Python 3",
   "language": "python",
   "name": "python3"
  },
  "language_info": {
   "codemirror_mode": {
    "name": "ipython",
    "version": 3
   },
   "file_extension": ".py",
   "mimetype": "text/x-python",
   "name": "python",
   "nbconvert_exporter": "python",
   "pygments_lexer": "ipython3",
   "version": "3.8.8"
  }
 },
 "nbformat": 4,
 "nbformat_minor": 5
}
