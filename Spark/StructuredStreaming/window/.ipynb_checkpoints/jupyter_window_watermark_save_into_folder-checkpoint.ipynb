{
 "cells": [
  {
   "cell_type": "markdown",
   "id": "f1ba4bb3",
   "metadata": {},
   "source": [
    "# Window operation on event time\n",
    "1. This document is mostly based on the \n",
    "<a href=\"https://spark.apache.org/docs/latest/structured-streaming-programming-guide.html#window-operations-on-event-time\"> [link] </a>\n",
    "\n",
    "2. Run the generator from data_generator.ipynb in the current folder. "
   ]
  },
  {
   "cell_type": "markdown",
   "id": "159fd656",
   "metadata": {},
   "source": [
    "# Load SparkSession and Data"
   ]
  },
  {
   "cell_type": "code",
   "execution_count": 1,
   "id": "39f42c7f",
   "metadata": {},
   "outputs": [
    {
     "name": "stdout",
     "output_type": "stream",
     "text": [
      "DataFrame[created_at: string, sentiment_level: string]\n",
      "+-------------------+---------------+\n",
      "|created_at         |sentiment_level|\n",
      "+-------------------+---------------+\n",
      "|2021-10-29T18:10:09|2              |\n",
      "+-------------------+---------------+\n",
      "\n"
     ]
    }
   ],
   "source": [
    "from pyspark.sql import SparkSession\n",
    "from pyspark.sql.types import StructField, StringType\n",
    "from pyspark.sql.functions import udf\n",
    "from pyspark.sql.functions import col\n",
    "\n",
    "from pyspark.sql.functions import to_timestamp\n",
    "from pyspark.sql import types\n",
    "\n",
    "spark = SparkSession \\\n",
    "    .builder \\\n",
    "    .appName(\"Window Operations on Event Time\") \\\n",
    "    .getOrCreate()\n",
    "\n",
    "static_df = spark.read.json(\"./data/sample.txt\")\n",
    "schema = static_df.schema\n",
    "\n",
    "df = spark.readStream.format(\"json\").schema(schema).option(\"maxFilesPerTrigger\", 1).load(\"./data/\")\n",
    "\n",
    "print(df)\n",
    "static_df.show(5, truncate=False)"
   ]
  },
  {
   "cell_type": "markdown",
   "id": "3322cff5",
   "metadata": {},
   "source": [
    "# Window operation"
   ]
  },
  {
   "cell_type": "code",
   "execution_count": 2,
   "id": "5e2e2b19",
   "metadata": {},
   "outputs": [],
   "source": [
    "from pyspark.sql.functions import window\n",
    "\n",
    "windowsedCounts = df.groupBy(\n",
    "    window(col(created_at), \"10 seconds\", \"2 seconds\").alias(\"created_at\"),\n",
    "    df.sentiment_level\n",
    ").count()"
   ]
  },
  {
   "cell_type": "code",
   "execution_count": 3,
   "id": "3ef33bb4",
   "metadata": {},
   "outputs": [],
   "source": [
    "numLevelBySec = windowsedCounts.groupBy(\n",
    "    col(\"sentiment_level\"),\n",
    "    col(\"count\")\n",
    ").sum()"
   ]
  },
  {
   "cell_type": "code",
   "execution_count": 6,
   "id": "9c87c399",
   "metadata": {},
   "outputs": [
    {
     "ename": "AnalysisException",
     "evalue": "Multiple streaming aggregations are not supported with streaming DataFrames/Datasets;\nAggregate [sentiment_level#12, count#31L], [sentiment_level#12, count#31L, sum(count#31L) AS sum(count)#40L]\n+- Aggregate [window#32, sentiment_level#12], [window#32 AS created_at#27, sentiment_level#12, count(1) AS count#31L]\n   +- Filter ((cast(created_at#11 as timestamp) >= window#32.start) AND (cast(created_at#11 as timestamp) < window#32.end))\n      +- Expand [List(named_struct(start, precisetimestampconversion(((((CASE WHEN (cast(CEIL((cast((precisetimestampconversion(cast(created_at#11 as timestamp), TimestampType, LongType) - 0) as double) / cast(2000000 as double))) as double) = (cast((precisetimestampconversion(cast(created_at#11 as timestamp), TimestampType, LongType) - 0) as double) / cast(2000000 as double))) THEN (CEIL((cast((precisetimestampconversion(cast(created_at#11 as timestamp), TimestampType, LongType) - 0) as double) / cast(2000000 as double))) + cast(1 as bigint)) ELSE CEIL((cast((precisetimestampconversion(cast(created_at#11 as timestamp), TimestampType, LongType) - 0) as double) / cast(2000000 as double))) END + cast(0 as bigint)) - cast(5 as bigint)) * 2000000) + 0), LongType, TimestampType), end, precisetimestampconversion((((((CASE WHEN (cast(CEIL((cast((precisetimestampconversion(cast(created_at#11 as timestamp), TimestampType, LongType) - 0) as double) / cast(2000000 as double))) as double) = (cast((precisetimestampconversion(cast(created_at#11 as timestamp), TimestampType, LongType) - 0) as double) / cast(2000000 as double))) THEN (CEIL((cast((precisetimestampconversion(cast(created_at#11 as timestamp), TimestampType, LongType) - 0) as double) / cast(2000000 as double))) + cast(1 as bigint)) ELSE CEIL((cast((precisetimestampconversion(cast(created_at#11 as timestamp), TimestampType, LongType) - 0) as double) / cast(2000000 as double))) END + cast(0 as bigint)) - cast(5 as bigint)) * 2000000) + 0) + 10000000), LongType, TimestampType)), created_at#11, sentiment_level#12), List(named_struct(start, precisetimestampconversion(((((CASE WHEN (cast(CEIL((cast((precisetimestampconversion(cast(created_at#11 as timestamp), TimestampType, LongType) - 0) as double) / cast(2000000 as double))) as double) = (cast((precisetimestampconversion(cast(created_at#11 as timestamp), TimestampType, LongType) - 0) as double) / cast(2000000 as double))) THEN (CEIL((cast((precisetimestampconversion(cast(created_at#11 as timestamp), TimestampType, LongType) - 0) as double) / cast(2000000 as double))) + cast(1 as bigint)) ELSE CEIL((cast((precisetimestampconversion(cast(created_at#11 as timestamp), TimestampType, LongType) - 0) as double) / cast(2000000 as double))) END + cast(1 as bigint)) - cast(5 as bigint)) * 2000000) + 0), LongType, TimestampType), end, precisetimestampconversion((((((CASE WHEN (cast(CEIL((cast((precisetimestampconversion(cast(created_at#11 as timestamp), TimestampType, LongType) - 0) as double) / cast(2000000 as double))) as double) = (cast((precisetimestampconversion(cast(created_at#11 as timestamp), TimestampType, LongType) - 0) as double) / cast(2000000 as double))) THEN (CEIL((cast((precisetimestampconversion(cast(created_at#11 as timestamp), TimestampType, LongType) - 0) as double) / cast(2000000 as double))) + cast(1 as bigint)) ELSE CEIL((cast((precisetimestampconversion(cast(created_at#11 as timestamp), TimestampType, LongType) - 0) as double) / cast(2000000 as double))) END + cast(1 as bigint)) - cast(5 as bigint)) * 2000000) + 0) + 10000000), LongType, TimestampType)), created_at#11, sentiment_level#12), List(named_struct(start, precisetimestampconversion(((((CASE WHEN (cast(CEIL((cast((precisetimestampconversion(cast(created_at#11 as timestamp), TimestampType, LongType) - 0) as double) / cast(2000000 as double))) as double) = (cast((precisetimestampconversion(cast(created_at#11 as timestamp), TimestampType, LongType) - 0) as double) / cast(2000000 as double))) THEN (CEIL((cast((precisetimestampconversion(cast(created_at#11 as timestamp), TimestampType, LongType) - 0) as double) / cast(2000000 as double))) + cast(1 as bigint)) ELSE CEIL((cast((precisetimestampconversion(cast(created_at#11 as timestamp), TimestampType, LongType) - 0) as double) / cast(2000000 as double))) END + cast(2 as bigint)) - cast(5 as bigint)) * 2000000) + 0), LongType, TimestampType), end, precisetimestampconversion((((((CASE WHEN (cast(CEIL((cast((precisetimestampconversion(cast(created_at#11 as timestamp), TimestampType, LongType) - 0) as double) / cast(2000000 as double))) as double) = (cast((precisetimestampconversion(cast(created_at#11 as timestamp), TimestampType, LongType) - 0) as double) / cast(2000000 as double))) THEN (CEIL((cast((precisetimestampconversion(cast(created_at#11 as timestamp), TimestampType, LongType) - 0) as double) / cast(2000000 as double))) + cast(1 as bigint)) ELSE CEIL((cast((precisetimestampconversion(cast(created_at#11 as timestamp), TimestampType, LongType) - 0) as double) / cast(2000000 as double))) END + cast(2 as bigint)) - cast(5 as bigint)) * 2000000) + 0) + 10000000), LongType, TimestampType)), created_at#11, sentiment_level#12), List(named_struct(start, precisetimestampconversion(((((CASE WHEN (cast(CEIL((cast((precisetimestampconversion(cast(created_at#11 as timestamp), TimestampType, LongType) - 0) as double) / cast(2000000 as double))) as double) = (cast((precisetimestampconversion(cast(created_at#11 as timestamp), TimestampType, LongType) - 0) as double) / cast(2000000 as double))) THEN (CEIL((cast((precisetimestampconversion(cast(created_at#11 as timestamp), TimestampType, LongType) - 0) as double) / cast(2000000 as double))) + cast(1 as bigint)) ELSE CEIL((cast((precisetimestampconversion(cast(created_at#11 as timestamp), TimestampType, LongType) - 0) as double) / cast(2000000 as double))) END + cast(3 as bigint)) - cast(5 as bigint)) * 2000000) + 0), LongType, TimestampType), end, precisetimestampconversion((((((CASE WHEN (cast(CEIL((cast((precisetimestampconversion(cast(created_at#11 as timestamp), TimestampType, LongType) - 0) as double) / cast(2000000 as double))) as double) = (cast((precisetimestampconversion(cast(created_at#11 as timestamp), TimestampType, LongType) - 0) as double) / cast(2000000 as double))) THEN (CEIL((cast((precisetimestampconversion(cast(created_at#11 as timestamp), TimestampType, LongType) - 0) as double) / cast(2000000 as double))) + cast(1 as bigint)) ELSE CEIL((cast((precisetimestampconversion(cast(created_at#11 as timestamp), TimestampType, LongType) - 0) as double) / cast(2000000 as double))) END + cast(3 as bigint)) - cast(5 as bigint)) * 2000000) + 0) + 10000000), LongType, TimestampType)), created_at#11, sentiment_level#12), List(named_struct(start, precisetimestampconversion(((((CASE WHEN (cast(CEIL((cast((precisetimestampconversion(cast(created_at#11 as timestamp), TimestampType, LongType) - 0) as double) / cast(2000000 as double))) as double) = (cast((precisetimestampconversion(cast(created_at#11 as timestamp), TimestampType, LongType) - 0) as double) / cast(2000000 as double))) THEN (CEIL((cast((precisetimestampconversion(cast(created_at#11 as timestamp), TimestampType, LongType) - 0) as double) / cast(2000000 as double))) + cast(1 as bigint)) ELSE CEIL((cast((precisetimestampconversion(cast(created_at#11 as timestamp), TimestampType, LongType) - 0) as double) / cast(2000000 as double))) END + cast(4 as bigint)) - cast(5 as bigint)) * 2000000) + 0), LongType, TimestampType), end, precisetimestampconversion((((((CASE WHEN (cast(CEIL((cast((precisetimestampconversion(cast(created_at#11 as timestamp), TimestampType, LongType) - 0) as double) / cast(2000000 as double))) as double) = (cast((precisetimestampconversion(cast(created_at#11 as timestamp), TimestampType, LongType) - 0) as double) / cast(2000000 as double))) THEN (CEIL((cast((precisetimestampconversion(cast(created_at#11 as timestamp), TimestampType, LongType) - 0) as double) / cast(2000000 as double))) + cast(1 as bigint)) ELSE CEIL((cast((precisetimestampconversion(cast(created_at#11 as timestamp), TimestampType, LongType) - 0) as double) / cast(2000000 as double))) END + cast(4 as bigint)) - cast(5 as bigint)) * 2000000) + 0) + 10000000), LongType, TimestampType)), created_at#11, sentiment_level#12)], [window#32, created_at#11, sentiment_level#12]\n         +- StreamingRelation DataSource(org.apache.spark.sql.SparkSession@6d31bb30,json,List(),Some(StructType(StructField(created_at,StringType,true), StructField(sentiment_level,StringType,true))),List(),None,Map(maxFilesPerTrigger -> 1, path -> ./data/),None), FileSource[./data/], [created_at#11, sentiment_level#12]\n",
     "output_type": "error",
     "traceback": [
      "\u001b[0;31m---------------------------------------------------------------------------\u001b[0m",
      "\u001b[0;31mAnalysisException\u001b[0m                         Traceback (most recent call last)",
      "\u001b[0;32m<ipython-input-6-92925fad2d1f>\u001b[0m in \u001b[0;36m<module>\u001b[0;34m\u001b[0m\n\u001b[0;32m----> 1\u001b[0;31m \u001b[0mlaunch\u001b[0m \u001b[0;34m=\u001b[0m \u001b[0mnumLevelBySec\u001b[0m\u001b[0;31m \u001b[0m\u001b[0;31m\\\u001b[0m\u001b[0;34m\u001b[0m\u001b[0;34m\u001b[0m\u001b[0m\n\u001b[0m\u001b[1;32m      2\u001b[0m     \u001b[0;34m.\u001b[0m\u001b[0mwriteStream\u001b[0m\u001b[0;31m \u001b[0m\u001b[0;31m\\\u001b[0m\u001b[0;34m\u001b[0m\u001b[0;34m\u001b[0m\u001b[0m\n\u001b[1;32m      3\u001b[0m     \u001b[0;34m.\u001b[0m\u001b[0moutputMode\u001b[0m\u001b[0;34m(\u001b[0m\u001b[0;34m\"complete\"\u001b[0m\u001b[0;34m)\u001b[0m\u001b[0;31m \u001b[0m\u001b[0;31m\\\u001b[0m\u001b[0;34m\u001b[0m\u001b[0;34m\u001b[0m\u001b[0m\n\u001b[1;32m      4\u001b[0m     \u001b[0;34m.\u001b[0m\u001b[0mqueryName\u001b[0m\u001b[0;34m(\u001b[0m\u001b[0;34m\"df\"\u001b[0m\u001b[0;34m)\u001b[0m\u001b[0;31m \u001b[0m\u001b[0;31m\\\u001b[0m\u001b[0;34m\u001b[0m\u001b[0;34m\u001b[0m\u001b[0m\n\u001b[1;32m      5\u001b[0m     \u001b[0;34m.\u001b[0m\u001b[0mformat\u001b[0m\u001b[0;34m(\u001b[0m\u001b[0;34m\"memory\"\u001b[0m\u001b[0;34m)\u001b[0m\u001b[0;31m \u001b[0m\u001b[0;31m\\\u001b[0m\u001b[0;34m\u001b[0m\u001b[0;34m\u001b[0m\u001b[0m\n",
      "\u001b[0;32m~/opt/anaconda3/lib/python3.8/site-packages/pyspark/sql/streaming.py\u001b[0m in \u001b[0;36mstart\u001b[0;34m(self, path, format, outputMode, partitionBy, queryName, **options)\u001b[0m\n\u001b[1;32m   1489\u001b[0m             \u001b[0mself\u001b[0m\u001b[0;34m.\u001b[0m\u001b[0mqueryName\u001b[0m\u001b[0;34m(\u001b[0m\u001b[0mqueryName\u001b[0m\u001b[0;34m)\u001b[0m\u001b[0;34m\u001b[0m\u001b[0;34m\u001b[0m\u001b[0m\n\u001b[1;32m   1490\u001b[0m         \u001b[0;32mif\u001b[0m \u001b[0mpath\u001b[0m \u001b[0;32mis\u001b[0m \u001b[0;32mNone\u001b[0m\u001b[0;34m:\u001b[0m\u001b[0;34m\u001b[0m\u001b[0;34m\u001b[0m\u001b[0m\n\u001b[0;32m-> 1491\u001b[0;31m             \u001b[0;32mreturn\u001b[0m \u001b[0mself\u001b[0m\u001b[0;34m.\u001b[0m\u001b[0m_sq\u001b[0m\u001b[0;34m(\u001b[0m\u001b[0mself\u001b[0m\u001b[0;34m.\u001b[0m\u001b[0m_jwrite\u001b[0m\u001b[0;34m.\u001b[0m\u001b[0mstart\u001b[0m\u001b[0;34m(\u001b[0m\u001b[0;34m)\u001b[0m\u001b[0;34m)\u001b[0m\u001b[0;34m\u001b[0m\u001b[0;34m\u001b[0m\u001b[0m\n\u001b[0m\u001b[1;32m   1492\u001b[0m         \u001b[0;32melse\u001b[0m\u001b[0;34m:\u001b[0m\u001b[0;34m\u001b[0m\u001b[0;34m\u001b[0m\u001b[0m\n\u001b[1;32m   1493\u001b[0m             \u001b[0;32mreturn\u001b[0m \u001b[0mself\u001b[0m\u001b[0;34m.\u001b[0m\u001b[0m_sq\u001b[0m\u001b[0;34m(\u001b[0m\u001b[0mself\u001b[0m\u001b[0;34m.\u001b[0m\u001b[0m_jwrite\u001b[0m\u001b[0;34m.\u001b[0m\u001b[0mstart\u001b[0m\u001b[0;34m(\u001b[0m\u001b[0mpath\u001b[0m\u001b[0;34m)\u001b[0m\u001b[0;34m)\u001b[0m\u001b[0;34m\u001b[0m\u001b[0;34m\u001b[0m\u001b[0m\n",
      "\u001b[0;32m~/opt/anaconda3/lib/python3.8/site-packages/py4j/java_gateway.py\u001b[0m in \u001b[0;36m__call__\u001b[0;34m(self, *args)\u001b[0m\n\u001b[1;32m   1302\u001b[0m \u001b[0;34m\u001b[0m\u001b[0m\n\u001b[1;32m   1303\u001b[0m         \u001b[0manswer\u001b[0m \u001b[0;34m=\u001b[0m \u001b[0mself\u001b[0m\u001b[0;34m.\u001b[0m\u001b[0mgateway_client\u001b[0m\u001b[0;34m.\u001b[0m\u001b[0msend_command\u001b[0m\u001b[0;34m(\u001b[0m\u001b[0mcommand\u001b[0m\u001b[0;34m)\u001b[0m\u001b[0;34m\u001b[0m\u001b[0;34m\u001b[0m\u001b[0m\n\u001b[0;32m-> 1304\u001b[0;31m         return_value = get_return_value(\n\u001b[0m\u001b[1;32m   1305\u001b[0m             answer, self.gateway_client, self.target_id, self.name)\n\u001b[1;32m   1306\u001b[0m \u001b[0;34m\u001b[0m\u001b[0m\n",
      "\u001b[0;32m~/opt/anaconda3/lib/python3.8/site-packages/pyspark/sql/utils.py\u001b[0m in \u001b[0;36mdeco\u001b[0;34m(*a, **kw)\u001b[0m\n\u001b[1;32m    115\u001b[0m                 \u001b[0;31m# Hide where the exception came from that shows a non-Pythonic\u001b[0m\u001b[0;34m\u001b[0m\u001b[0;34m\u001b[0m\u001b[0;34m\u001b[0m\u001b[0m\n\u001b[1;32m    116\u001b[0m                 \u001b[0;31m# JVM exception message.\u001b[0m\u001b[0;34m\u001b[0m\u001b[0;34m\u001b[0m\u001b[0;34m\u001b[0m\u001b[0m\n\u001b[0;32m--> 117\u001b[0;31m                 \u001b[0;32mraise\u001b[0m \u001b[0mconverted\u001b[0m \u001b[0;32mfrom\u001b[0m \u001b[0;32mNone\u001b[0m\u001b[0;34m\u001b[0m\u001b[0;34m\u001b[0m\u001b[0m\n\u001b[0m\u001b[1;32m    118\u001b[0m             \u001b[0;32melse\u001b[0m\u001b[0;34m:\u001b[0m\u001b[0;34m\u001b[0m\u001b[0;34m\u001b[0m\u001b[0m\n\u001b[1;32m    119\u001b[0m                 \u001b[0;32mraise\u001b[0m\u001b[0;34m\u001b[0m\u001b[0;34m\u001b[0m\u001b[0m\n",
      "\u001b[0;31mAnalysisException\u001b[0m: Multiple streaming aggregations are not supported with streaming DataFrames/Datasets;\nAggregate [sentiment_level#12, count#31L], [sentiment_level#12, count#31L, sum(count#31L) AS sum(count)#40L]\n+- Aggregate [window#32, sentiment_level#12], [window#32 AS created_at#27, sentiment_level#12, count(1) AS count#31L]\n   +- Filter ((cast(created_at#11 as timestamp) >= window#32.start) AND (cast(created_at#11 as timestamp) < window#32.end))\n      +- Expand [List(named_struct(start, precisetimestampconversion(((((CASE WHEN (cast(CEIL((cast((precisetimestampconversion(cast(created_at#11 as timestamp), TimestampType, LongType) - 0) as double) / cast(2000000 as double))) as double) = (cast((precisetimestampconversion(cast(created_at#11 as timestamp), TimestampType, LongType) - 0) as double) / cast(2000000 as double))) THEN (CEIL((cast((precisetimestampconversion(cast(created_at#11 as timestamp), TimestampType, LongType) - 0) as double) / cast(2000000 as double))) + cast(1 as bigint)) ELSE CEIL((cast((precisetimestampconversion(cast(created_at#11 as timestamp), TimestampType, LongType) - 0) as double) / cast(2000000 as double))) END + cast(0 as bigint)) - cast(5 as bigint)) * 2000000) + 0), LongType, TimestampType), end, precisetimestampconversion((((((CASE WHEN (cast(CEIL((cast((precisetimestampconversion(cast(created_at#11 as timestamp), TimestampType, LongType) - 0) as double) / cast(2000000 as double))) as double) = (cast((precisetimestampconversion(cast(created_at#11 as timestamp), TimestampType, LongType) - 0) as double) / cast(2000000 as double))) THEN (CEIL((cast((precisetimestampconversion(cast(created_at#11 as timestamp), TimestampType, LongType) - 0) as double) / cast(2000000 as double))) + cast(1 as bigint)) ELSE CEIL((cast((precisetimestampconversion(cast(created_at#11 as timestamp), TimestampType, LongType) - 0) as double) / cast(2000000 as double))) END + cast(0 as bigint)) - cast(5 as bigint)) * 2000000) + 0) + 10000000), LongType, TimestampType)), created_at#11, sentiment_level#12), List(named_struct(start, precisetimestampconversion(((((CASE WHEN (cast(CEIL((cast((precisetimestampconversion(cast(created_at#11 as timestamp), TimestampType, LongType) - 0) as double) / cast(2000000 as double))) as double) = (cast((precisetimestampconversion(cast(created_at#11 as timestamp), TimestampType, LongType) - 0) as double) / cast(2000000 as double))) THEN (CEIL((cast((precisetimestampconversion(cast(created_at#11 as timestamp), TimestampType, LongType) - 0) as double) / cast(2000000 as double))) + cast(1 as bigint)) ELSE CEIL((cast((precisetimestampconversion(cast(created_at#11 as timestamp), TimestampType, LongType) - 0) as double) / cast(2000000 as double))) END + cast(1 as bigint)) - cast(5 as bigint)) * 2000000) + 0), LongType, TimestampType), end, precisetimestampconversion((((((CASE WHEN (cast(CEIL((cast((precisetimestampconversion(cast(created_at#11 as timestamp), TimestampType, LongType) - 0) as double) / cast(2000000 as double))) as double) = (cast((precisetimestampconversion(cast(created_at#11 as timestamp), TimestampType, LongType) - 0) as double) / cast(2000000 as double))) THEN (CEIL((cast((precisetimestampconversion(cast(created_at#11 as timestamp), TimestampType, LongType) - 0) as double) / cast(2000000 as double))) + cast(1 as bigint)) ELSE CEIL((cast((precisetimestampconversion(cast(created_at#11 as timestamp), TimestampType, LongType) - 0) as double) / cast(2000000 as double))) END + cast(1 as bigint)) - cast(5 as bigint)) * 2000000) + 0) + 10000000), LongType, TimestampType)), created_at#11, sentiment_level#12), List(named_struct(start, precisetimestampconversion(((((CASE WHEN (cast(CEIL((cast((precisetimestampconversion(cast(created_at#11 as timestamp), TimestampType, LongType) - 0) as double) / cast(2000000 as double))) as double) = (cast((precisetimestampconversion(cast(created_at#11 as timestamp), TimestampType, LongType) - 0) as double) / cast(2000000 as double))) THEN (CEIL((cast((precisetimestampconversion(cast(created_at#11 as timestamp), TimestampType, LongType) - 0) as double) / cast(2000000 as double))) + cast(1 as bigint)) ELSE CEIL((cast((precisetimestampconversion(cast(created_at#11 as timestamp), TimestampType, LongType) - 0) as double) / cast(2000000 as double))) END + cast(2 as bigint)) - cast(5 as bigint)) * 2000000) + 0), LongType, TimestampType), end, precisetimestampconversion((((((CASE WHEN (cast(CEIL((cast((precisetimestampconversion(cast(created_at#11 as timestamp), TimestampType, LongType) - 0) as double) / cast(2000000 as double))) as double) = (cast((precisetimestampconversion(cast(created_at#11 as timestamp), TimestampType, LongType) - 0) as double) / cast(2000000 as double))) THEN (CEIL((cast((precisetimestampconversion(cast(created_at#11 as timestamp), TimestampType, LongType) - 0) as double) / cast(2000000 as double))) + cast(1 as bigint)) ELSE CEIL((cast((precisetimestampconversion(cast(created_at#11 as timestamp), TimestampType, LongType) - 0) as double) / cast(2000000 as double))) END + cast(2 as bigint)) - cast(5 as bigint)) * 2000000) + 0) + 10000000), LongType, TimestampType)), created_at#11, sentiment_level#12), List(named_struct(start, precisetimestampconversion(((((CASE WHEN (cast(CEIL((cast((precisetimestampconversion(cast(created_at#11 as timestamp), TimestampType, LongType) - 0) as double) / cast(2000000 as double))) as double) = (cast((precisetimestampconversion(cast(created_at#11 as timestamp), TimestampType, LongType) - 0) as double) / cast(2000000 as double))) THEN (CEIL((cast((precisetimestampconversion(cast(created_at#11 as timestamp), TimestampType, LongType) - 0) as double) / cast(2000000 as double))) + cast(1 as bigint)) ELSE CEIL((cast((precisetimestampconversion(cast(created_at#11 as timestamp), TimestampType, LongType) - 0) as double) / cast(2000000 as double))) END + cast(3 as bigint)) - cast(5 as bigint)) * 2000000) + 0), LongType, TimestampType), end, precisetimestampconversion((((((CASE WHEN (cast(CEIL((cast((precisetimestampconversion(cast(created_at#11 as timestamp), TimestampType, LongType) - 0) as double) / cast(2000000 as double))) as double) = (cast((precisetimestampconversion(cast(created_at#11 as timestamp), TimestampType, LongType) - 0) as double) / cast(2000000 as double))) THEN (CEIL((cast((precisetimestampconversion(cast(created_at#11 as timestamp), TimestampType, LongType) - 0) as double) / cast(2000000 as double))) + cast(1 as bigint)) ELSE CEIL((cast((precisetimestampconversion(cast(created_at#11 as timestamp), TimestampType, LongType) - 0) as double) / cast(2000000 as double))) END + cast(3 as bigint)) - cast(5 as bigint)) * 2000000) + 0) + 10000000), LongType, TimestampType)), created_at#11, sentiment_level#12), List(named_struct(start, precisetimestampconversion(((((CASE WHEN (cast(CEIL((cast((precisetimestampconversion(cast(created_at#11 as timestamp), TimestampType, LongType) - 0) as double) / cast(2000000 as double))) as double) = (cast((precisetimestampconversion(cast(created_at#11 as timestamp), TimestampType, LongType) - 0) as double) / cast(2000000 as double))) THEN (CEIL((cast((precisetimestampconversion(cast(created_at#11 as timestamp), TimestampType, LongType) - 0) as double) / cast(2000000 as double))) + cast(1 as bigint)) ELSE CEIL((cast((precisetimestampconversion(cast(created_at#11 as timestamp), TimestampType, LongType) - 0) as double) / cast(2000000 as double))) END + cast(4 as bigint)) - cast(5 as bigint)) * 2000000) + 0), LongType, TimestampType), end, precisetimestampconversion((((((CASE WHEN (cast(CEIL((cast((precisetimestampconversion(cast(created_at#11 as timestamp), TimestampType, LongType) - 0) as double) / cast(2000000 as double))) as double) = (cast((precisetimestampconversion(cast(created_at#11 as timestamp), TimestampType, LongType) - 0) as double) / cast(2000000 as double))) THEN (CEIL((cast((precisetimestampconversion(cast(created_at#11 as timestamp), TimestampType, LongType) - 0) as double) / cast(2000000 as double))) + cast(1 as bigint)) ELSE CEIL((cast((precisetimestampconversion(cast(created_at#11 as timestamp), TimestampType, LongType) - 0) as double) / cast(2000000 as double))) END + cast(4 as bigint)) - cast(5 as bigint)) * 2000000) + 0) + 10000000), LongType, TimestampType)), created_at#11, sentiment_level#12)], [window#32, created_at#11, sentiment_level#12]\n         +- StreamingRelation DataSource(org.apache.spark.sql.SparkSession@6d31bb30,json,List(),Some(StructType(StructField(created_at,StringType,true), StructField(sentiment_level,StringType,true))),List(),None,Map(maxFilesPerTrigger -> 1, path -> ./data/),None), FileSource[./data/], [created_at#11, sentiment_level#12]\n"
     ]
    }
   ],
   "source": [
    "launch = numLevelBySec \\\n",
    "    .writeStream \\\n",
    "    .outputMode(\"complete\") \\\n",
    "    .queryName(\"df\") \\\n",
    "    .format(\"memory\") \\\n",
    ".start()"
   ]
  },
  {
   "cell_type": "code",
   "execution_count": null,
   "id": "029462bd",
   "metadata": {},
   "outputs": [],
   "source": [
    "import time\n",
    "\n",
    "for _ in range(3):\n",
    "    spark.sql(\"select * from df\").sort(\"created_at\", ascending=False).show(5, truncate=False)\n",
    "    time.sleep(5)"
   ]
  }
 ],
 "metadata": {
  "kernelspec": {
   "display_name": "Python 3",
   "language": "python",
   "name": "python3"
  },
  "language_info": {
   "codemirror_mode": {
    "name": "ipython",
    "version": 3
   },
   "file_extension": ".py",
   "mimetype": "text/x-python",
   "name": "python",
   "nbconvert_exporter": "python",
   "pygments_lexer": "ipython3",
   "version": "3.8.8"
  }
 },
 "nbformat": 4,
 "nbformat_minor": 5
}
