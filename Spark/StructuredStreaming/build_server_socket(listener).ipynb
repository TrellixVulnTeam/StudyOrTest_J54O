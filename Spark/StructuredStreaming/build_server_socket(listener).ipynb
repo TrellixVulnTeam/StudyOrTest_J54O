{
 "cells": [
  {
   "cell_type": "markdown",
   "id": "4fe39e4b",
   "metadata": {},
   "source": [
    "## build a server socket (watting until the a client sends a request)"
   ]
  },
  {
   "cell_type": "code",
   "execution_count": 1,
   "id": "dec9a5ef",
   "metadata": {
    "scrolled": true
   },
   "outputs": [
    {
     "name": "stdout",
     "output_type": "stream",
     "text": [
      "127.0.0.1:62291 accepted\n",
      "Server sent a message successfully.\n",
      "Server sent a message successfully.\n",
      "Server sent a message successfully.\n",
      "Server sent a message successfully.\n",
      "Server sent a message successfully.\n",
      "Server sent a message successfully.\n",
      "Server sent a message successfully.\n",
      "Server sent a message successfully.\n",
      "Server sent a message successfully.\n",
      "Server sent a message successfully.\n",
      "Server sent a message successfully.\n",
      "Server sent a message successfully.\n",
      "Server sent a message successfully.\n",
      "Server sent a message successfully.\n",
      "Server sent a message successfully.\n",
      "Server sent a message successfully.\n"
     ]
    },
    {
     "ename": "BrokenPipeError",
     "evalue": "[Errno 32] Broken pipe",
     "output_type": "error",
     "traceback": [
      "\u001b[0;31m---------------------------------------------------------------------------\u001b[0m",
      "\u001b[0;31mBrokenPipeError\u001b[0m                           Traceback (most recent call last)",
      "\u001b[0;32m<ipython-input-1-ddea06a327ae>\u001b[0m in \u001b[0;36m<module>\u001b[0;34m\u001b[0m\n\u001b[1;32m     23\u001b[0m     \u001b[0;31m# send a mags each 2 seconds.\u001b[0m\u001b[0;34m\u001b[0m\u001b[0;34m\u001b[0m\u001b[0;34m\u001b[0m\u001b[0m\n\u001b[1;32m     24\u001b[0m     \u001b[0mtime\u001b[0m\u001b[0;34m.\u001b[0m\u001b[0msleep\u001b[0m\u001b[0;34m(\u001b[0m\u001b[0;36m2\u001b[0m\u001b[0;34m)\u001b[0m\u001b[0;34m\u001b[0m\u001b[0;34m\u001b[0m\u001b[0m\n\u001b[0;32m---> 25\u001b[0;31m     \u001b[0mclient\u001b[0m\u001b[0;34m.\u001b[0m\u001b[0msend\u001b[0m\u001b[0;34m(\u001b[0m\u001b[0mmsg\u001b[0m\u001b[0;34m.\u001b[0m\u001b[0mencode\u001b[0m\u001b[0;34m(\u001b[0m\u001b[0;34m\"utf8\"\u001b[0m\u001b[0;34m)\u001b[0m\u001b[0;34m)\u001b[0m\u001b[0;34m\u001b[0m\u001b[0;34m\u001b[0m\u001b[0m\n\u001b[0m\u001b[1;32m     26\u001b[0m     \u001b[0mprint\u001b[0m\u001b[0;34m(\u001b[0m\u001b[0;34m\"Server sent a message successfully.\"\u001b[0m\u001b[0;34m)\u001b[0m\u001b[0;34m\u001b[0m\u001b[0;34m\u001b[0m\u001b[0m\n\u001b[1;32m     27\u001b[0m \u001b[0;34m\u001b[0m\u001b[0m\n",
      "\u001b[0;31mBrokenPipeError\u001b[0m: [Errno 32] Broken pipe"
     ]
    }
   ],
   "source": [
    "import socket\n",
    "import time \n",
    "\n",
    "host = 'localhost'\n",
    "port = 9999\n",
    "\n",
    "s = socket.socket()\n",
    "s.bind((host, port))\n",
    "\n",
    "s.listen(1)\n",
    "\n",
    "# client will be the Spark.\n",
    "client, addr = s.accept()\n",
    "\n",
    "print(f\"{addr[0]}:{addr[1]} accepted\")\n",
    "\n",
    "num = 0\n",
    "while True:\n",
    "    num += 1\n",
    "    json_data = {\"Name\":\"JIN\" + str(num), \"Type\":\"Person\"}\n",
    "    msg = str(json_data) + '\\n'\n",
    "\n",
    "    # send a mags each 2 seconds.\n",
    "    time.sleep(2)\n",
    "    client.send(msg.encode(\"utf8\"))\n",
    "    print(\"Server sent a message successfully.\")\n",
    "    \n",
    "client.close()\n",
    "s.close()"
   ]
  },
  {
   "cell_type": "code",
   "execution_count": null,
   "id": "490748a8",
   "metadata": {},
   "outputs": [],
   "source": []
  }
 ],
 "metadata": {
  "kernelspec": {
   "display_name": "Python 3",
   "language": "python",
   "name": "python3"
  },
  "language_info": {
   "codemirror_mode": {
    "name": "ipython",
    "version": 3
   },
   "file_extension": ".py",
   "mimetype": "text/x-python",
   "name": "python",
   "nbconvert_exporter": "python",
   "pygments_lexer": "ipython3",
   "version": "3.8.8"
  }
 },
 "nbformat": 4,
 "nbformat_minor": 5
}
