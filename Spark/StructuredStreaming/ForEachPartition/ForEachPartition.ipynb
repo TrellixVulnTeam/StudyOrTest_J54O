{
 "cells": [
  {
   "cell_type": "code",
   "execution_count": 5,
   "id": "1027c3fa",
   "metadata": {},
   "outputs": [],
   "source": [
    "from pyspark.sql import SparkSession\n",
    "\n",
    "spark = SparkSession \\\n",
    "    .builder \\\n",
    "    .appName(\"ForEachPartition\") \\\n",
    "    .getOrCreate()"
   ]
  },
  {
   "cell_type": "code",
   "execution_count": 6,
   "id": "58ab7c89",
   "metadata": {},
   "outputs": [],
   "source": [
    "from pyspark.sql import types as T\n",
    "\n",
    "schema = T.StructType([\n",
    "    T.StructField(\"created_at\", T.TimestampType(), True),\n",
    "    T.StructField(\"sentiment_level\", T.StringType(), False)\n",
    "])"
   ]
  },
  {
   "cell_type": "code",
   "execution_count": 7,
   "id": "42cf32ca",
   "metadata": {},
   "outputs": [
    {
     "data": {
      "text/plain": [
       "DataFrame[created_at: timestamp, sentiment_level: string]"
      ]
     },
     "execution_count": 7,
     "metadata": {},
     "output_type": "execute_result"
    }
   ],
   "source": [
    "df = spark.readStream.schema(schema).json('./data/')\n",
    "df"
   ]
  },
  {
   "cell_type": "code",
   "execution_count": 8,
   "id": "c2c4c2e7",
   "metadata": {},
   "outputs": [],
   "source": [
    "import socket\n",
    "host = \"localhost\"\n",
    "port = 6666\n",
    "\n",
    "s = socket.socket()\n",
    "def foreach_batch_function(df, epoch_id):\n",
    "    for data in df.toJSON().collect():\n",
    "        s = socket.socket()\n",
    "        s.connect((host, port))\n",
    "        data = str(data)\n",
    "        s.send(data.encode(\"utf8\"))\n",
    "        s.close()\n",
    "        \n",
    "launch = df.writeStream.foreachBatch(foreach_batch_function).start()"
   ]
  },
  {
   "cell_type": "code",
   "execution_count": 9,
   "id": "8938026f",
   "metadata": {},
   "outputs": [],
   "source": [
    "launch.stop()"
   ]
  }
 ],
 "metadata": {
  "kernelspec": {
   "display_name": "Python 3",
   "language": "python",
   "name": "python3"
  },
  "language_info": {
   "codemirror_mode": {
    "name": "ipython",
    "version": 3
   },
   "file_extension": ".py",
   "mimetype": "text/x-python",
   "name": "python",
   "nbconvert_exporter": "python",
   "pygments_lexer": "ipython3",
   "version": "3.8.8"
  }
 },
 "nbformat": 4,
 "nbformat_minor": 5
}
