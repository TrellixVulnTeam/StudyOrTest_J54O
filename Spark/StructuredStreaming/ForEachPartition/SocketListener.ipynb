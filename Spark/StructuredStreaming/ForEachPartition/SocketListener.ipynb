{
 "cells": [
  {
   "cell_type": "code",
   "execution_count": null,
   "id": "d04c69e0",
   "metadata": {},
   "outputs": [
    {
     "name": "stdout",
     "output_type": "stream",
     "text": [
      "Waitting until connected\n",
      "b'{\"created_at\":\"2021-11-08T15:57:53.000+09:00\",\"sentiment_level\":\"2\"}'\n",
      "b'{\"created_at\":\"2021-11-08T15:57:56.000+09:00\",\"sentiment_level\":\"1\"}'\n",
      "b'{\"created_at\":\"2021-11-08T15:58:00.000+09:00\",\"sentiment_level\":\"2\"}'\n",
      "b'{\"created_at\":\"2021-11-08T15:58:03.000+09:00\",\"sentiment_level\":\"2\"}'\n",
      "b'{\"created_at\":\"2021-11-08T15:58:06.000+09:00\",\"sentiment_level\":\"1\"}'\n",
      "b'{\"created_at\":\"2021-11-08T15:58:09.000+09:00\",\"sentiment_level\":\"0\"}'\n",
      "b'{\"created_at\":\"2021-11-08T15:58:12.000+09:00\",\"sentiment_level\":\"0\"}'\n",
      "b'{\"created_at\":\"2021-11-08T15:58:15.000+09:00\",\"sentiment_level\":\"2\"}'\n",
      "b'{\"created_at\":\"2021-11-08T15:58:18.000+09:00\",\"sentiment_level\":\"1\"}'\n",
      "b'{\"created_at\":\"2021-11-08T15:58:21.000+09:00\",\"sentiment_level\":\"0\"}'\n",
      "b'{\"created_at\":\"2021-11-08T15:58:24.000+09:00\",\"sentiment_level\":\"1\"}'\n",
      "b'{\"created_at\":\"2021-11-08T15:58:27.000+09:00\",\"sentiment_level\":\"0\"}'\n",
      "b'{\"created_at\":\"2021-11-08T15:59:11.000+09:00\",\"sentiment_level\":\"0\"}'\n",
      "b'{\"created_at\":\"2021-11-08T15:59:11.000+09:00\",\"sentiment_level\":\"2\"}'\n",
      "b'{\"created_at\":\"2021-11-08T15:59:14.000+09:00\",\"sentiment_level\":\"2\"}'\n",
      "b'{\"created_at\":\"2021-11-08T15:59:14.000+09:00\",\"sentiment_level\":\"0\"}'\n",
      "b'{\"created_at\":\"2021-11-08T15:59:17.000+09:00\",\"sentiment_level\":\"2\"}'\n",
      "b'{\"created_at\":\"2021-11-08T15:59:17.000+09:00\",\"sentiment_level\":\"2\"}'\n",
      "b'{\"created_at\":\"2021-11-08T15:59:20.000+09:00\",\"sentiment_level\":\"2\"}'\n",
      "b'{\"created_at\":\"2021-11-08T15:59:20.000+09:00\",\"sentiment_level\":\"2\"}'\n",
      "b'{\"created_at\":\"2021-11-08T15:59:23.000+09:00\",\"sentiment_level\":\"1\"}'\n",
      "b'{\"created_at\":\"2021-11-08T15:59:23.000+09:00\",\"sentiment_level\":\"2\"}'\n",
      "b'{\"created_at\":\"2021-11-08T15:59:26.000+09:00\",\"sentiment_level\":\"2\"}'\n",
      "b'{\"created_at\":\"2021-11-08T15:59:26.000+09:00\",\"sentiment_level\":\"1\"}'\n"
     ]
    }
   ],
   "source": [
    "import socket\n",
    "\n",
    "socket = socket.socket()\n",
    "socket.bind((\"localhost\", 6666))\n",
    "socket.listen(1)\n",
    "print(\"Waitting until connected\")\n",
    "\n",
    "while True:\n",
    "    client, addr= socket.accept()\n",
    "    msg = client.recv(1024)\n",
    "\n",
    "    print(msg)"
   ]
  },
  {
   "cell_type": "code",
   "execution_count": null,
   "id": "68f3f512",
   "metadata": {},
   "outputs": [],
   "source": []
  }
 ],
 "metadata": {
  "kernelspec": {
   "display_name": "Python 3",
   "language": "python",
   "name": "python3"
  },
  "language_info": {
   "codemirror_mode": {
    "name": "ipython",
    "version": 3
   },
   "file_extension": ".py",
   "mimetype": "text/x-python",
   "name": "python",
   "nbconvert_exporter": "python",
   "pygments_lexer": "ipython3",
   "version": "3.8.8"
  }
 },
 "nbformat": 4,
 "nbformat_minor": 5
}
