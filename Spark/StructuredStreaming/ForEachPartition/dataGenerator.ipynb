{
 "cells": [
  {
   "cell_type": "markdown",
   "id": "6e26061f",
   "metadata": {},
   "source": [
    "# Save data into data folder in this document after generating "
   ]
  },
  {
   "cell_type": "markdown",
   "id": "25939b32",
   "metadata": {},
   "source": [
    "## Data gernerator code"
   ]
  },
  {
   "cell_type": "code",
   "execution_count": 17,
   "id": "5fa7bab6",
   "metadata": {},
   "outputs": [],
   "source": [
    "import time\n",
    "import datetime\n",
    "import random\n",
    "\n",
    "class generator(object):\n",
    "    def datetime(self):\n",
    "        ctime = time.ctime()\n",
    "        yield datetime.datetime.strptime(ctime , \"%a %b %d %H:%M:%S %Y\").isoformat()    \n",
    "\n",
    "    def sentiment_level(self):\n",
    "        yield str(random.randint(0, 2))\n",
    "        \n",
    "    def create_json_data(self):\n",
    "        datetime = next(self.datetime())\n",
    "        sentiment_level = next(self.sentiment_level())\n",
    "        \n",
    "        yield \"{\" + f'\"created_at\":\"{datetime}\", \"sentiment_level\":\"{sentiment_level}\"' + \"}\"\n",
    "                 "
   ]
  },
  {
   "cell_type": "markdown",
   "id": "785b8b79",
   "metadata": {},
   "source": [
    "## Delete all sample files if it exists."
   ]
  },
  {
   "cell_type": "code",
   "execution_count": 20,
   "id": "55b4fff7",
   "metadata": {},
   "outputs": [],
   "source": [
    "import os\n",
    "import glob\n",
    "\n",
    "fileList = glob.glob('./data/sample_*.txt', recursive=True)    \n",
    "\n",
    "for file in fileList:\n",
    "    try:\n",
    "        os.remove(file)\n",
    "    except OSError:\n",
    "        print(\"Error while deleting file\")"
   ]
  },
  {
   "cell_type": "markdown",
   "id": "34947c7c",
   "metadata": {},
   "source": [
    "## Create Sample data each 2 sec"
   ]
  },
  {
   "cell_type": "code",
   "execution_count": null,
   "id": "8d00a432",
   "metadata": {},
   "outputs": [
    {
     "name": "stdout",
     "output_type": "stream",
     "text": [
      "new data generated!\n"
     ]
    }
   ],
   "source": [
    "num = 0\n",
    "while True:\n",
    "    time.sleep(3)\n",
    "    \n",
    "    with open(f'./data/sample_{num}.txt', 'a') as f:\n",
    "        for _ in range(2):\n",
    "            json_data = next(generator().create_json_data()) + \"\\n\"\n",
    "            f.write(json_data)        \n",
    "        num += 1\n",
    "        print(\"new data generated!\")    "
   ]
  },
  {
   "cell_type": "code",
   "execution_count": null,
   "id": "baa995f1",
   "metadata": {},
   "outputs": [],
   "source": []
  }
 ],
 "metadata": {
  "kernelspec": {
   "display_name": "Python 3",
   "language": "python",
   "name": "python3"
  },
  "language_info": {
   "codemirror_mode": {
    "name": "ipython",
    "version": 3
   },
   "file_extension": ".py",
   "mimetype": "text/x-python",
   "name": "python",
   "nbconvert_exporter": "python",
   "pygments_lexer": "ipython3",
   "version": "3.8.8"
  }
 },
 "nbformat": 4,
 "nbformat_minor": 5
}
