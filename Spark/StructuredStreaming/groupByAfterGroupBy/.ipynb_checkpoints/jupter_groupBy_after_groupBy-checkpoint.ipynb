{
 "cells": [
  {
   "cell_type": "markdown",
   "id": "f1ba4bb3",
   "metadata": {},
   "source": [
    "# groupBy After groupBy!\n",
    "\n",
    "Basically, After groupBy, it can't be groupBy again. <br>\n",
    "So we should do this using trick! <br>\n",
    "\n",
    "The thing is after groupBy, we will save the data into the folder.\n",
    "and then, we reload the data. then, we can expect to do groupBy again."
   ]
  },
  {
   "cell_type": "markdown",
   "id": "159fd656",
   "metadata": {},
   "source": [
    "# Load SparkSession and Data"
   ]
  },
  {
   "cell_type": "code",
   "execution_count": 3,
   "id": "39f42c7f",
   "metadata": {},
   "outputs": [
    {
     "name": "stdout",
     "output_type": "stream",
     "text": [
      "DataFrame[created_at: string, sentiment_level: string]\n",
      "+-------------------+---------------+\n",
      "|created_at         |sentiment_level|\n",
      "+-------------------+---------------+\n",
      "|2021-10-29T18:10:09|2              |\n",
      "+-------------------+---------------+\n",
      "\n"
     ]
    }
   ],
   "source": [
    "from pyspark.sql import SparkSession\n",
    "from pyspark.sql.types import StructField, StringType\n",
    "from pyspark.sql.functions import udf\n",
    "from pyspark.sql.functions import col\n",
    "\n",
    "from pyspark.sql.functions import to_timestamp\n",
    "from pyspark.sql import types\n",
    "\n",
    "spark = SparkSession \\\n",
    "    .builder \\\n",
    "    .appName(\"Window Operations on Event Time\") \\\n",
    "    .getOrCreate()\n",
    "\n",
    "static_df = spark.read.json(\"./data/sample.txt\")\n",
    "\n",
    "schema = static_df.schema\n",
    "\n",
    "df = spark.readStream.format(\"json\").schema(schema).option(\"maxFilesPerTrigger\", 1).load(\"./data/\")\n",
    "\n",
    "print(df)\n",
    "static_df.show(5, truncate=False)"
   ]
  },
  {
   "cell_type": "markdown",
   "id": "3322cff5",
   "metadata": {},
   "source": [
    "# Window operation with water mark\n",
    "### Conditions for watermarking to clean aggregation state <a href=\"https://spark.apache.org/docs/latest/structured-streaming-programming-guide.html#quick-example\">[link]</a> "
   ]
  },
  {
   "cell_type": "code",
   "execution_count": 4,
   "id": "03314b4b",
   "metadata": {},
   "outputs": [],
   "source": [
    "from pyspark.sql.types import TimestampType\n",
    "tsDF = df.select(col(\"created_at\").cast(TimestampType()), col(\"sentiment_level\"))"
   ]
  },
  {
   "cell_type": "code",
   "execution_count": 5,
   "id": "5e2e2b19",
   "metadata": {},
   "outputs": [],
   "source": [
    "# If you set a WaterMark with a time, it blocks not to be data included x hours/minutes/seconds passed.\n",
    "\n",
    "from pyspark.sql.functions import window\n",
    "\n",
    "windowedCounts = tsDF \\\n",
    "    .withWatermark(\"created_at\", \"10 seconds\") \\\n",
    "    .groupBy(\n",
    "        window(col(\"created_at\"), \"10 seconds\", \"5 seconds\").alias(\"created_at\"),\n",
    "        col(\"sentiment_level\")) \\\n",
    "    .count()"
   ]
  },
  {
   "cell_type": "markdown",
   "id": "a9ebaa64",
   "metadata": {},
   "source": [
    "# Save your calculated data into the folder."
   ]
  },
  {
   "cell_type": "code",
   "execution_count": 6,
   "id": "feee3722",
   "metadata": {},
   "outputs": [
    {
     "data": {
      "text/plain": [
       "<pyspark.sql.streaming.StreamingQuery at 0x7fd389055dc0>"
      ]
     },
     "execution_count": 6,
     "metadata": {},
     "output_type": "execute_result"
    }
   ],
   "source": [
    "windowedCounts \\\n",
    "    .writeStream \\\n",
    "    .format(\"parquet\") \\\n",
    "    .option(\"path\", \"./windowsedCounts_output/\") \\\n",
    "    .option(\"checkpointLocation\", \"./windowsedCounts_checkpoint/\") \\\n",
    "    .queryName(\"df\") \\\n",
    ".start()"
   ]
  },
  {
   "cell_type": "code",
   "execution_count": 11,
   "id": "50abb0b1",
   "metadata": {},
   "outputs": [],
   "source": [
    "schema = \n",
    "\n",
    "windowedCountsDF = spark \\ \n",
    "    .readStream.format(\"json\") \\\n",
    "    .option(\"path\", \"./windowsedCounts_output/\") \\\n",
    "    .schema(schema) \\\n",
    ".load()"
   ]
  }
 ],
 "metadata": {
  "kernelspec": {
   "display_name": "Python 3",
   "language": "python",
   "name": "python3"
  },
  "language_info": {
   "codemirror_mode": {
    "name": "ipython",
    "version": 3
   },
   "file_extension": ".py",
   "mimetype": "text/x-python",
   "name": "python",
   "nbconvert_exporter": "python",
   "pygments_lexer": "ipython3",
   "version": "3.8.8"
  }
 },
 "nbformat": 4,
 "nbformat_minor": 5
}
