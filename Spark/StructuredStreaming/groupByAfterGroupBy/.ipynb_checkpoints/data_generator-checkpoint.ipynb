{
 "cells": [
  {
   "cell_type": "markdown",
   "id": "6e26061f",
   "metadata": {},
   "source": [
    "# Save data into data folder in this document after generating "
   ]
  },
  {
   "cell_type": "markdown",
   "id": "25939b32",
   "metadata": {},
   "source": [
    "## Data gernerator code"
   ]
  },
  {
   "cell_type": "code",
   "execution_count": 3,
   "id": "5fa7bab6",
   "metadata": {},
   "outputs": [],
   "source": [
    "import time\n",
    "import datetime\n",
    "import random\n",
    "\n",
    "class generator(object):\n",
    "    def datetime(self):\n",
    "        ctime = time.ctime()\n",
    "        yield datetime.datetime.strptime(ctime , \"%a %b %d %H:%M:%S %Y\").isoformat()    \n",
    "\n",
    "    def sentiment_level(self):\n",
    "        yield str(random.randint(0, 2))\n",
    "        \n",
    "    def create_json_data(self):\n",
    "        datetime = next(self.datetime())\n",
    "        sentiment_level = next(self.sentiment_level())\n",
    "        \n",
    "        yield \"{\" + f'\"created_at\":\"{datetime}\", \"sentiment_level\":\"{sentiment_level}\"' + \"}\"\n",
    "                 "
   ]
  },
  {
   "cell_type": "markdown",
   "id": "785b8b79",
   "metadata": {},
   "source": [
    "## Delete all sample files if it exists."
   ]
  },
  {
   "cell_type": "code",
   "execution_count": 4,
   "id": "55b4fff7",
   "metadata": {},
   "outputs": [],
   "source": [
    "import os\n",
    "import glob\n",
    "\n",
    "fileList = glob.glob('./data/sample_*.txt', recursive=True)    \n",
    "\n",
    "for file in fileList:\n",
    "    try:\n",
    "        os.remove(file)\n",
    "    except OSError:\n",
    "        print(\"Error while deleting file\")"
   ]
  },
  {
   "cell_type": "markdown",
   "id": "34947c7c",
   "metadata": {},
   "source": [
    "## Create Sample data each 2 sec"
   ]
  },
  {
   "cell_type": "code",
   "execution_count": 2,
   "id": "8d00a432",
   "metadata": {},
   "outputs": [
    {
     "ename": "NameError",
     "evalue": "name 'generator' is not defined",
     "output_type": "error",
     "traceback": [
      "\u001b[0;31m---------------------------------------------------------------------------\u001b[0m",
      "\u001b[0;31mNameError\u001b[0m                                 Traceback (most recent call last)",
      "\u001b[0;32m<ipython-input-2-a0f62dfa2a7e>\u001b[0m in \u001b[0;36m<module>\u001b[0;34m\u001b[0m\n\u001b[1;32m      7\u001b[0m     \u001b[0;32mwith\u001b[0m \u001b[0mopen\u001b[0m\u001b[0;34m(\u001b[0m\u001b[0;34mf'./data/sample_{num}.txt'\u001b[0m\u001b[0;34m,\u001b[0m \u001b[0;34m'a'\u001b[0m\u001b[0;34m)\u001b[0m \u001b[0;32mas\u001b[0m \u001b[0mf\u001b[0m\u001b[0;34m:\u001b[0m\u001b[0;34m\u001b[0m\u001b[0;34m\u001b[0m\u001b[0m\n\u001b[1;32m      8\u001b[0m         \u001b[0;32mfor\u001b[0m \u001b[0m_\u001b[0m \u001b[0;32min\u001b[0m \u001b[0mrange\u001b[0m\u001b[0;34m(\u001b[0m\u001b[0;36m5\u001b[0m\u001b[0;34m)\u001b[0m\u001b[0;34m:\u001b[0m\u001b[0;34m\u001b[0m\u001b[0;34m\u001b[0m\u001b[0m\n\u001b[0;32m----> 9\u001b[0;31m             \u001b[0mjson_data\u001b[0m \u001b[0;34m=\u001b[0m \u001b[0mnext\u001b[0m\u001b[0;34m(\u001b[0m\u001b[0mgenerator\u001b[0m\u001b[0;34m(\u001b[0m\u001b[0;34m)\u001b[0m\u001b[0;34m.\u001b[0m\u001b[0mcreate_json_data\u001b[0m\u001b[0;34m(\u001b[0m\u001b[0;34m)\u001b[0m\u001b[0;34m)\u001b[0m \u001b[0;34m+\u001b[0m \u001b[0;34m\"\\n\"\u001b[0m\u001b[0;34m\u001b[0m\u001b[0;34m\u001b[0m\u001b[0m\n\u001b[0m\u001b[1;32m     10\u001b[0m             \u001b[0mf\u001b[0m\u001b[0;34m.\u001b[0m\u001b[0mwrite\u001b[0m\u001b[0;34m(\u001b[0m\u001b[0mjson_data\u001b[0m\u001b[0;34m)\u001b[0m\u001b[0;34m\u001b[0m\u001b[0;34m\u001b[0m\u001b[0m\n\u001b[1;32m     11\u001b[0m         \u001b[0mnum\u001b[0m \u001b[0;34m+=\u001b[0m \u001b[0;36m1\u001b[0m\u001b[0;34m\u001b[0m\u001b[0;34m\u001b[0m\u001b[0m\n",
      "\u001b[0;31mNameError\u001b[0m: name 'generator' is not defined"
     ]
    }
   ],
   "source": [
    "import time\n",
    "\n",
    "num = 0\n",
    "while True:\n",
    "    time.sleep(2)\n",
    "    \n",
    "    with open(f'./data/sample_{num}.txt', 'a') as f:\n",
    "        for _ in range(5):\n",
    "            json_data = next(generator().create_json_data()) + \"\\n\"\n",
    "            f.write(json_data)        \n",
    "        num += 1\n",
    "        print(\"new data generated!\")    "
   ]
  },
  {
   "cell_type": "code",
   "execution_count": null,
   "id": "baa995f1",
   "metadata": {},
   "outputs": [],
   "source": []
  }
 ],
 "metadata": {
  "kernelspec": {
   "display_name": "Python 3",
   "language": "python",
   "name": "python3"
  },
  "language_info": {
   "codemirror_mode": {
    "name": "ipython",
    "version": 3
   },
   "file_extension": ".py",
   "mimetype": "text/x-python",
   "name": "python",
   "nbconvert_exporter": "python",
   "pygments_lexer": "ipython3",
   "version": "3.8.8"
  }
 },
 "nbformat": 4,
 "nbformat_minor": 5
}
