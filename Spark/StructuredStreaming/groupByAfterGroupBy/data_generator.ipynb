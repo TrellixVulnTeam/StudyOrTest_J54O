{
 "cells": [
  {
   "cell_type": "markdown",
   "id": "6e26061f",
   "metadata": {},
   "source": [
    "# Save data into data folder in this document after generating "
   ]
  },
  {
   "cell_type": "markdown",
   "id": "25939b32",
   "metadata": {},
   "source": [
    "## Data gernerator code"
   ]
  },
  {
   "cell_type": "code",
   "execution_count": 1,
   "id": "5fa7bab6",
   "metadata": {},
   "outputs": [],
   "source": [
    "import time\n",
    "import datetime\n",
    "import random\n",
    "\n",
    "class generator(object):\n",
    "    def datetime(self):\n",
    "        ctime = time.ctime()\n",
    "        yield datetime.datetime.strptime(ctime , \"%a %b %d %H:%M:%S %Y\").isoformat()    \n",
    "\n",
    "    def sentiment_level(self):\n",
    "        yield str(random.randint(0, 2))\n",
    "        \n",
    "    def create_json_data(self):\n",
    "        datetime = next(self.datetime())\n",
    "        sentiment_level = next(self.sentiment_level())\n",
    "        \n",
    "        yield \"{\" + f'\"created_at\":\"{datetime}\", \"sentiment_level\":\"{sentiment_level}\"' + \"}\"\n",
    "                 "
   ]
  },
  {
   "cell_type": "markdown",
   "id": "785b8b79",
   "metadata": {},
   "source": [
    "## Delete all sample files if it exists."
   ]
  },
  {
   "cell_type": "code",
   "execution_count": 4,
   "id": "55b4fff7",
   "metadata": {},
   "outputs": [],
   "source": [
    "import os\n",
    "import glob\n",
    "\n",
    "fileList = glob.glob('./data/sample_*.txt', recursive=True)    \n",
    "\n",
    "for file in fileList:\n",
    "    try:\n",
    "        os.remove(file)\n",
    "    except OSError:\n",
    "        print(\"Error while deleting file\")"
   ]
  },
  {
   "cell_type": "markdown",
   "id": "34947c7c",
   "metadata": {},
   "source": [
    "## Create Sample data each 2 sec"
   ]
  },
  {
   "cell_type": "code",
   "execution_count": 3,
   "id": "8d00a432",
   "metadata": {},
   "outputs": [
    {
     "name": "stdout",
     "output_type": "stream",
     "text": [
      "new data generated!\n",
      "new data generated!\n",
      "new data generated!\n",
      "new data generated!\n",
      "new data generated!\n",
      "new data generated!\n",
      "new data generated!\n",
      "new data generated!\n",
      "new data generated!\n",
      "new data generated!\n",
      "new data generated!\n",
      "new data generated!\n",
      "new data generated!\n",
      "new data generated!\n",
      "new data generated!\n",
      "new data generated!\n",
      "new data generated!\n",
      "new data generated!\n",
      "new data generated!\n",
      "new data generated!\n",
      "new data generated!\n",
      "new data generated!\n",
      "new data generated!\n",
      "new data generated!\n",
      "new data generated!\n",
      "new data generated!\n",
      "new data generated!\n",
      "new data generated!\n",
      "new data generated!\n",
      "new data generated!\n",
      "new data generated!\n",
      "new data generated!\n",
      "new data generated!\n",
      "new data generated!\n",
      "new data generated!\n",
      "new data generated!\n",
      "new data generated!\n",
      "new data generated!\n",
      "new data generated!\n",
      "new data generated!\n",
      "new data generated!\n",
      "new data generated!\n"
     ]
    },
    {
     "ename": "KeyboardInterrupt",
     "evalue": "",
     "output_type": "error",
     "traceback": [
      "\u001b[0;31m---------------------------------------------------------------------------\u001b[0m",
      "\u001b[0;31mKeyboardInterrupt\u001b[0m                         Traceback (most recent call last)",
      "\u001b[0;32m<ipython-input-3-a620b13df91f>\u001b[0m in \u001b[0;36m<module>\u001b[0;34m\u001b[0m\n\u001b[1;32m      1\u001b[0m \u001b[0mnum\u001b[0m \u001b[0;34m=\u001b[0m \u001b[0;36m0\u001b[0m\u001b[0;34m\u001b[0m\u001b[0;34m\u001b[0m\u001b[0m\n\u001b[1;32m      2\u001b[0m \u001b[0;32mwhile\u001b[0m \u001b[0;32mTrue\u001b[0m\u001b[0;34m:\u001b[0m\u001b[0;34m\u001b[0m\u001b[0;34m\u001b[0m\u001b[0m\n\u001b[0;32m----> 3\u001b[0;31m     \u001b[0mtime\u001b[0m\u001b[0;34m.\u001b[0m\u001b[0msleep\u001b[0m\u001b[0;34m(\u001b[0m\u001b[0;36m2\u001b[0m\u001b[0;34m)\u001b[0m\u001b[0;34m\u001b[0m\u001b[0;34m\u001b[0m\u001b[0m\n\u001b[0m\u001b[1;32m      4\u001b[0m \u001b[0;34m\u001b[0m\u001b[0m\n\u001b[1;32m      5\u001b[0m     \u001b[0;32mwith\u001b[0m \u001b[0mopen\u001b[0m\u001b[0;34m(\u001b[0m\u001b[0;34mf'./data/sample_{num}.txt'\u001b[0m\u001b[0;34m,\u001b[0m \u001b[0;34m'a'\u001b[0m\u001b[0;34m)\u001b[0m \u001b[0;32mas\u001b[0m \u001b[0mf\u001b[0m\u001b[0;34m:\u001b[0m\u001b[0;34m\u001b[0m\u001b[0;34m\u001b[0m\u001b[0m\n",
      "\u001b[0;31mKeyboardInterrupt\u001b[0m: "
     ]
    }
   ],
   "source": [
    "num = 0\n",
    "while True:\n",
    "    time.sleep(2)\n",
    "    \n",
    "    with open(f'./data/sample_{num}.txt', 'a') as f:\n",
    "        for _ in range(5):\n",
    "            json_data = next(generator().create_json_data()) + \"\\n\"\n",
    "            f.write(json_data)        \n",
    "        num += 1\n",
    "        print(\"new data generated!\")    "
   ]
  },
  {
   "cell_type": "code",
   "execution_count": null,
   "id": "3c57688e",
   "metadata": {},
   "outputs": [],
   "source": []
  }
 ],
 "metadata": {
  "kernelspec": {
   "display_name": "Python 3",
   "language": "python",
   "name": "python3"
  },
  "language_info": {
   "codemirror_mode": {
    "name": "ipython",
    "version": 3
   },
   "file_extension": ".py",
   "mimetype": "text/x-python",
   "name": "python",
   "nbconvert_exporter": "python",
   "pygments_lexer": "ipython3",
   "version": "3.8.8"
  }
 },
 "nbformat": 4,
 "nbformat_minor": 5
}
