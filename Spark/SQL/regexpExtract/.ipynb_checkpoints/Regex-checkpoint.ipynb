{
 "cells": [
  {
   "cell_type": "markdown",
   "id": "f8417c5a",
   "metadata": {},
   "source": [
    "# Regex\n",
    "- Docs <a href=\"https://spark.apache.org/docs/latest/api/python/reference/api/pyspark.sql.functions.regexp_extract.html\"> [link]</a>\n",
    "- Regex patterns follow Java<br>\n",
    "- W3school, Java Regoular Expressions<a href=\"https://www.w3schools.com/java/java_regex.asp\"> [link]</a>"
   ]
  },
  {
   "cell_type": "markdown",
   "id": "92c9c004",
   "metadata": {},
   "source": [
    "### Material for studying"
   ]
  },
  {
   "cell_type": "code",
   "execution_count": 1,
   "id": "442009aa",
   "metadata": {},
   "outputs": [
    {
     "name": "stdout",
     "output_type": "stream",
     "text": [
      "+---+--------------------+\n",
      "| id|                text|\n",
      "+---+--------------------+\n",
      "|  1|I love you 3000. ...|\n",
      "|  2|        Hello, World|\n",
      "|  3| Every day NEW life!|\n",
      "|  4|       @HAPPY #SPARK|\n",
      "|  5|   #I don't know you|\n",
      "|  6|               @2000|\n",
      "|  7|              @2000:|\n",
      "|  8|              2@2000|\n",
      "+---+--------------------+\n",
      "\n"
     ]
    }
   ],
   "source": [
    "from pyspark.sql import SparkSession\n",
    "\n",
    "spark = SparkSession \\\n",
    "    .builder \\\n",
    "    .appName(\"Regex\") \\\n",
    "    .getOrCreate()\n",
    "\n",
    "\n",
    "columns = ['id', 'text']\n",
    "data = [(1, 'I love you 3000. now It turned into 2000'), (2, 'Hello, World'), (3, 'Every day NEW life!'),\n",
    "        (4, '@HAPPY #SPARK'), (5, '#I don\\'t know you'), (6, '@2000'), (7, '@2000:'), (8, '2@2000')]\n",
    "\n",
    "df = spark.sparkContext.parallelize(data).toDF(columns)\n",
    "df.show()"
   ]
  },
  {
   "cell_type": "markdown",
   "id": "076ff6e6",
   "metadata": {},
   "source": [
    "### Test as much as you want!"
   ]
  },
  {
   "cell_type": "code",
   "execution_count": 2,
   "id": "0831bf76",
   "metadata": {},
   "outputs": [],
   "source": [
    "from pyspark.sql.functions import regexp_extract"
   ]
  },
  {
   "cell_type": "code",
   "execution_count": 3,
   "id": "fc43b007",
   "metadata": {},
   "outputs": [
    {
     "ename": "NameError",
     "evalue": "name 'F' is not defined",
     "output_type": "error",
     "traceback": [
      "\u001b[0;31m---------------------------------------------------------------------------\u001b[0m",
      "\u001b[0;31mNameError\u001b[0m                                 Traceback (most recent call last)",
      "\u001b[0;32m<ipython-input-3-2db7f659c5e5>\u001b[0m in \u001b[0;36m<module>\u001b[0;34m\u001b[0m\n\u001b[1;32m      1\u001b[0m \u001b[0;31m# Regex pattern should be wrapped in '(' and ')'\u001b[0m\u001b[0;34m\u001b[0m\u001b[0;34m\u001b[0m\u001b[0;34m\u001b[0m\u001b[0m\n\u001b[0;32m----> 2\u001b[0;31m \u001b[0mdf\u001b[0m\u001b[0;34m.\u001b[0m\u001b[0mselect\u001b[0m\u001b[0;34m(\u001b[0m\u001b[0;34m'id'\u001b[0m\u001b[0;34m,\u001b[0m \u001b[0mF\u001b[0m\u001b[0;34m.\u001b[0m\u001b[0mregexp_extract\u001b[0m\u001b[0;34m(\u001b[0m\u001b[0;34m'text'\u001b[0m\u001b[0;34m,\u001b[0m \u001b[0;34m'(\\d+)'\u001b[0m\u001b[0;34m,\u001b[0m \u001b[0;36m1\u001b[0m\u001b[0;34m)\u001b[0m\u001b[0;34m.\u001b[0m\u001b[0malias\u001b[0m\u001b[0;34m(\u001b[0m\u001b[0;34m'd'\u001b[0m\u001b[0;34m)\u001b[0m\u001b[0;34m)\u001b[0m\u001b[0;34m.\u001b[0m\u001b[0mcollect\u001b[0m\u001b[0;34m(\u001b[0m\u001b[0;34m)\u001b[0m\u001b[0;34m\u001b[0m\u001b[0;34m\u001b[0m\u001b[0m\n\u001b[0m",
      "\u001b[0;31mNameError\u001b[0m: name 'F' is not defined"
     ]
    }
   ],
   "source": [
    "# Regex pattern should be wrapped in '(' and ')'\n",
    "df.select('id', regexp_extract('text', '(\\d+)', 1).alias('d')).collect()"
   ]
  },
  {
   "cell_type": "code",
   "execution_count": null,
   "id": "1ed445da",
   "metadata": {},
   "outputs": [],
   "source": [
    "# \"+\" is expanding retrieving alphabet until the space. (compared it to above one)\n",
    "df.select('id', regexp_extract('text', '(\\d)', 1).alias('d')).collect()"
   ]
  },
  {
   "cell_type": "code",
   "execution_count": null,
   "id": "77e67bac",
   "metadata": {},
   "outputs": [],
   "source": [
    "# This pattern matches any character except a ~ z\n",
    "df.select('id', regexp_extract('text', '([a-z]+)', 1).alias('d')).collect()"
   ]
  },
  {
   "cell_type": "code",
   "execution_count": null,
   "id": "69f43812",
   "metadata": {},
   "outputs": [],
   "source": [
    "# This pattern matches any character except #, a, b or c.\n",
    "df.select('id', regexp_extract('text', '([^#abc])', 1).alias('d')).collect()"
   ]
  },
  {
   "cell_type": "code",
   "execution_count": null,
   "id": "7530cb7d",
   "metadata": {},
   "outputs": [],
   "source": [
    "# Meaning of \"^Hello\" starts with \"Hello\"\n",
    "df.select('id', regexp_extract('text', '(^@[a-z])', 1).alias('d')).collect()"
   ]
  },
  {
   "cell_type": "code",
   "execution_count": null,
   "id": "b6a4c97e",
   "metadata": {},
   "outputs": [],
   "source": [
    "# \\w: A word character, short for [a-zA-Z_0-9] \n",
    "df.select('id', regexp_extract('text', '(^@\\w+)', 1).alias('d')).collect()"
   ]
  },
  {
   "cell_type": "code",
   "execution_count": null,
   "id": "c05f9491",
   "metadata": {},
   "outputs": [],
   "source": [
    "# Start with \"@\" word as following character following but except \":\"\n",
    "df.select('id', regexp_extract('text', '(^@\\w+)[:]', 1).alias('d')).collect()"
   ]
  },
  {
   "cell_type": "code",
   "execution_count": null,
   "id": "34c39d53",
   "metadata": {},
   "outputs": [],
   "source": []
  }
 ],
 "metadata": {
  "kernelspec": {
   "display_name": "Python 3",
   "language": "python",
   "name": "python3"
  },
  "language_info": {
   "codemirror_mode": {
    "name": "ipython",
    "version": 3
   },
   "file_extension": ".py",
   "mimetype": "text/x-python",
   "name": "python",
   "nbconvert_exporter": "python",
   "pygments_lexer": "ipython3",
   "version": "3.8.8"
  }
 },
 "nbformat": 4,
 "nbformat_minor": 5
}
