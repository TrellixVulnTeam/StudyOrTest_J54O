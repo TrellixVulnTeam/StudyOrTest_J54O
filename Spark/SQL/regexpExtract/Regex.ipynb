{
 "cells": [
  {
   "cell_type": "markdown",
   "id": "14f2acee",
   "metadata": {},
   "source": [
    "# Regex\n",
    "- Docs <a href=\"https://spark.apache.org/docs/latest/api/python/reference/api/pyspark.sql.functions.regexp_extract.html\"> [link]</a>\n",
    "- Regex patterns follow Java<br>\n",
    "- W3school, Java Regoular Expressions<a href=\"https://www.w3schools.com/java/java_regex.asp\"> [link]</a>"
   ]
  },
  {
   "cell_type": "markdown",
   "id": "7909c158",
   "metadata": {},
   "source": [
    "### Material for studying"
   ]
  },
  {
   "cell_type": "code",
   "execution_count": 1,
   "id": "9afaff5f",
   "metadata": {},
   "outputs": [
    {
     "name": "stdout",
     "output_type": "stream",
     "text": [
      "+---+--------------------+\n",
      "| id|                text|\n",
      "+---+--------------------+\n",
      "|  1|I love you 3000. ...|\n",
      "|  2|        Hello, World|\n",
      "|  3| Every day NEW life!|\n",
      "|  4|       @HAPPY #SPARK|\n",
      "|  5|   #I don't know you|\n",
      "|  6|               @2000|\n",
      "|  7|              @2000:|\n",
      "|  8|              2@2000|\n",
      "+---+--------------------+\n",
      "\n"
     ]
    }
   ],
   "source": [
    "from pyspark.sql import SparkSession\n",
    "\n",
    "spark = SparkSession \\\n",
    "    .builder \\\n",
    "    .appName(\"Regex\") \\\n",
    "    .getOrCreate()\n",
    "\n",
    "\n",
    "columns = ['id', 'text']\n",
    "data = [(1, 'I love you 3000. now It turned into 2000'), (2, 'Hello, World'), (3, 'Every day NEW life!'),\n",
    "        (4, '@HAPPY #SPARK'), (5, '#I don\\'t know you'), (6, '@2000'), (7, '@2000:'), (8, '2@2000')]\n",
    "\n",
    "df = spark.sparkContext.parallelize(data).toDF(columns)\n",
    "df.show()"
   ]
  },
  {
   "cell_type": "markdown",
   "id": "a2fed0de",
   "metadata": {},
   "source": [
    "### Test as much as you want!"
   ]
  },
  {
   "cell_type": "code",
   "execution_count": 2,
   "id": "4a31e540",
   "metadata": {},
   "outputs": [],
   "source": [
    "from pyspark.sql.functions import regexp_extract"
   ]
  },
  {
   "cell_type": "code",
   "execution_count": 3,
   "id": "868ddd74",
   "metadata": {},
   "outputs": [
    {
     "data": {
      "text/plain": [
       "[Row(id=1, d='3000'),\n",
       " Row(id=2, d=''),\n",
       " Row(id=3, d=''),\n",
       " Row(id=4, d=''),\n",
       " Row(id=5, d=''),\n",
       " Row(id=6, d='2000'),\n",
       " Row(id=7, d='2000'),\n",
       " Row(id=8, d='2')]"
      ]
     },
     "execution_count": 3,
     "metadata": {},
     "output_type": "execute_result"
    }
   ],
   "source": [
    "# Regex pattern should be wrapped in '(' and ')'\n",
    "df.select('id', regexp_extract('text', '(\\d+)', 1).alias('d')).collect()"
   ]
  },
  {
   "cell_type": "code",
   "execution_count": 4,
   "id": "0cbf4666",
   "metadata": {},
   "outputs": [
    {
     "data": {
      "text/plain": [
       "[Row(id=1, d='3'),\n",
       " Row(id=2, d=''),\n",
       " Row(id=3, d=''),\n",
       " Row(id=4, d=''),\n",
       " Row(id=5, d=''),\n",
       " Row(id=6, d='2'),\n",
       " Row(id=7, d='2'),\n",
       " Row(id=8, d='2')]"
      ]
     },
     "execution_count": 4,
     "metadata": {},
     "output_type": "execute_result"
    }
   ],
   "source": [
    "# \"+\" is expanding retrieving alphabet until the space. (compared it to above one)\n",
    "df.select('id', regexp_extract('text', '(\\d)', 1).alias('d')).collect()"
   ]
  },
  {
   "cell_type": "code",
   "execution_count": 5,
   "id": "31ba938b",
   "metadata": {},
   "outputs": [
    {
     "data": {
      "text/plain": [
       "[Row(id=1, d='love'),\n",
       " Row(id=2, d='ello'),\n",
       " Row(id=3, d='very'),\n",
       " Row(id=4, d=''),\n",
       " Row(id=5, d='don'),\n",
       " Row(id=6, d=''),\n",
       " Row(id=7, d=''),\n",
       " Row(id=8, d='')]"
      ]
     },
     "execution_count": 5,
     "metadata": {},
     "output_type": "execute_result"
    }
   ],
   "source": [
    "# This pattern matches any character except a ~ z\n",
    "df.select('id', regexp_extract('text', '([a-z]+)', 1).alias('d')).collect()"
   ]
  },
  {
   "cell_type": "code",
   "execution_count": 6,
   "id": "4da82b44",
   "metadata": {},
   "outputs": [
    {
     "data": {
      "text/plain": [
       "[Row(id=1, d='I'),\n",
       " Row(id=2, d='H'),\n",
       " Row(id=3, d='E'),\n",
       " Row(id=4, d='@'),\n",
       " Row(id=5, d='I'),\n",
       " Row(id=6, d='@'),\n",
       " Row(id=7, d='@'),\n",
       " Row(id=8, d='2')]"
      ]
     },
     "execution_count": 6,
     "metadata": {},
     "output_type": "execute_result"
    }
   ],
   "source": [
    "# This pattern matches any character except #, a, b or c.\n",
    "df.select('id', regexp_extract('text', '([^#abc])', 1).alias('d')).collect()"
   ]
  },
  {
   "cell_type": "code",
   "execution_count": 7,
   "id": "69693bdc",
   "metadata": {},
   "outputs": [
    {
     "data": {
      "text/plain": [
       "[Row(id=1, d=''),\n",
       " Row(id=2, d=''),\n",
       " Row(id=3, d=''),\n",
       " Row(id=4, d=''),\n",
       " Row(id=5, d=''),\n",
       " Row(id=6, d=''),\n",
       " Row(id=7, d=''),\n",
       " Row(id=8, d='')]"
      ]
     },
     "execution_count": 7,
     "metadata": {},
     "output_type": "execute_result"
    }
   ],
   "source": [
    "# Meaning of \"^Hello\" starts with \"Hello\"\n",
    "df.select('id', regexp_extract('text', '(^@[a-z])', 1).alias('d')).collect()"
   ]
  },
  {
   "cell_type": "code",
   "execution_count": 8,
   "id": "c5999cd8",
   "metadata": {},
   "outputs": [
    {
     "data": {
      "text/plain": [
       "[Row(id=1, d=''),\n",
       " Row(id=2, d=''),\n",
       " Row(id=3, d=''),\n",
       " Row(id=4, d='@HAPPY'),\n",
       " Row(id=5, d=''),\n",
       " Row(id=6, d='@2000'),\n",
       " Row(id=7, d='@2000'),\n",
       " Row(id=8, d='')]"
      ]
     },
     "execution_count": 8,
     "metadata": {},
     "output_type": "execute_result"
    }
   ],
   "source": [
    "# \\w: A word character, short for [a-zA-Z_0-9] \n",
    "df.select('id', regexp_extract('text', '(^@\\w+)', 1).alias('d')).collect()"
   ]
  },
  {
   "cell_type": "code",
   "execution_count": 9,
   "id": "85833c47",
   "metadata": {},
   "outputs": [
    {
     "data": {
      "text/plain": [
       "[Row(id=1, d=''),\n",
       " Row(id=2, d=''),\n",
       " Row(id=3, d=''),\n",
       " Row(id=4, d=''),\n",
       " Row(id=5, d=''),\n",
       " Row(id=6, d=''),\n",
       " Row(id=7, d='@2000'),\n",
       " Row(id=8, d='')]"
      ]
     },
     "execution_count": 9,
     "metadata": {},
     "output_type": "execute_result"
    }
   ],
   "source": [
    "# Start with \"@\" and if it exists following \"word\" but except \":\"\n",
    "df.select('id', regexp_extract('text', '(^@\\w+)[:]', 1).alias('d')).collect()"
   ]
  },
  {
   "cell_type": "code",
   "execution_count": null,
   "id": "94387ee6",
   "metadata": {},
   "outputs": [],
   "source": []
  }
 ],
 "metadata": {
  "kernelspec": {
   "display_name": "Python 3",
   "language": "python",
   "name": "python3"
  },
  "language_info": {
   "codemirror_mode": {
    "name": "ipython",
    "version": 3
   },
   "file_extension": ".py",
   "mimetype": "text/x-python",
   "name": "python",
   "nbconvert_exporter": "python",
   "pygments_lexer": "ipython3",
   "version": "3.8.8"
  }
 },
 "nbformat": 4,
 "nbformat_minor": 5
}
