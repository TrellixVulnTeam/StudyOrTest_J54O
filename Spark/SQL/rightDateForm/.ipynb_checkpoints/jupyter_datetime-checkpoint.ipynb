{
 "cells": [
  {
   "cell_type": "markdown",
   "id": "dd2f7a5e",
   "metadata": {},
   "source": [
    "# The form of datetime to tranform as sql.types.DateType\n",
    "\n",
    "Data which has the form of \"Thu Oct 21 07:02:44 +0000 2021\" comes through API.<br>\n",
    "In this case, you cannot tranform data as sql.types.DateType right away.<br> So, we have to transform the data form after get each data.<br> To do that, we have to undferstand what is right form for sql.types.DateType"
   ]
  },
  {
   "cell_type": "markdown",
   "id": "b4e8f017",
   "metadata": {},
   "source": [
    "## Craete SparkSession "
   ]
  },
  {
   "cell_type": "code",
   "execution_count": 14,
   "id": "32fc6cf1",
   "metadata": {},
   "outputs": [],
   "source": [
    "from pyspark.sql import SparkSession\n",
    "from pyspark.sql.functions import col\n",
    "\n",
    "spark = SparkSession \\\n",
    "    .builder \\\n",
    "    .appName(\"Usage of to_date\") \\\n",
    "    .getOrCreate()"
   ]
  },
  {
   "cell_type": "markdown",
   "id": "99729df3",
   "metadata": {},
   "source": [
    "# Explain about to_date\n",
    "## to_date(col[, format])    [<a href=\"https://spark.apache.org/docs/latest/api/python/reference/pyspark.sql.html#data-types\">link<a>]\n",
    "Converts a Column into pyspark.sql.types.DateType using the optionally specified format.<br>\n",
    "    \n",
    "## pyspark.sql.types.DateType <a href=\"https://spark.apache.org/docs/latest/api/python/reference/api/pyspark.sql.types.DateType.html#pyspark.sql.types.DateType\">[link]</a>\n",
    "pyspark.sql.types.DateType means \"datetime.date\" in python and it is called \"date\"."
   ]
  },
  {
   "cell_type": "markdown",
   "id": "8f3fc98d",
   "metadata": {},
   "source": [
    "## Load data typed json"
   ]
  },
  {
   "cell_type": "code",
   "execution_count": 40,
   "id": "3ccde6e1",
   "metadata": {},
   "outputs": [
    {
     "name": "stdout",
     "output_type": "stream",
     "text": [
      "DataFrame[created_at: string]\n",
      "[Row(created_at='Thu Oct 21 07:02:44 +0000 2021')]\n"
     ]
    }
   ],
   "source": [
    "df = spark.read.json(\"./data/sample_data\")\n",
    "print(df)\n",
    "print(df.take(1))"
   ]
  },
  {
   "cell_type": "markdown",
   "id": "fda9c1ff",
   "metadata": {},
   "source": [
    "## Convert datatype from string to date"
   ]
  },
  {
   "cell_type": "markdown",
   "id": "ac1da412",
   "metadata": {},
   "source": [
    "Transformed data from string to date. <Br>\n",
    "However, the data in the column of to_date(created_at) is empty(None).<br>\n",
    "\n",
    "It is probably the reason why the form is not correct."
   ]
  },
  {
   "cell_type": "code",
   "execution_count": 45,
   "id": "a69d59b1",
   "metadata": {},
   "outputs": [
    {
     "name": "stdout",
     "output_type": "stream",
     "text": [
      "DataFrame[created_at: string, to_date(created_at): date]\n",
      "[Row(created_at='Thu Oct 21 07:02:44 +0000 2021', to_date(created_at)=None)]\n"
     ]
    }
   ],
   "source": [
    "from pyspark.sql.functions import to_date\n",
    "\n",
    "dateDF = df.select(col(\"created_at\"), to_date(col(\"created_at\")))\n",
    "print(dateDF)\n",
    "print(dateDF.take(1))"
   ]
  },
  {
   "cell_type": "markdown",
   "id": "8aff6e0c",
   "metadata": {},
   "source": [
    "## Let's find a right form\n",
    "I said pyspark.sql.types.DataType follows datetime.date in python.<br>\n",
    "So, what we have to look up is datetime.date\n",
    "\n",
    "###  datetime.data<a href=\"https://docs.python.org/3/library/datetime.html#datetime.date\"> [link]</a> \n",
    "class datetime.date(year, month, day)<br>\n",
    "All arguments are required. Arguments must be integers, in the following ranges:<br>\n",
    "<br>\n",
    "MINYEAR <= year <= MAXYEAR<br>\n",
    "1 <= month <= 12<br>\n",
    "1 <= day <= number of days in the given month and year<br>\n",
    "### conclusion\n",
    "(1) For transforming data from String to Date it has to be only String in the year, month, and day.<br>\n",
    "(2) The year,month, day should be number not abbreviation of Oct or something else.<br>\n",
    "(3) date_str format is allowed to form of \"year-month-day\" in date.fromisoformat. \n",
    " - Not sure. only this way is allowed to a type of Date "
   ]
  },
  {
   "cell_type": "markdown",
   "id": "c606932a",
   "metadata": {},
   "source": [
    "# Trasnform data form and use to_date() again!"
   ]
  },
  {
   "cell_type": "code",
   "execution_count": 57,
   "id": "8b40f131",
   "metadata": {},
   "outputs": [],
   "source": [
    "import datetime\n",
    "x = 'Thu Oct 21 07:02:44 +0000 2021' "
   ]
  },
  {
   "cell_type": "code",
   "execution_count": 61,
   "id": "eec76745",
   "metadata": {},
   "outputs": [
    {
     "data": {
      "text/plain": [
       "datetime.datetime(2021, 10, 21, 7, 2, 44, tzinfo=datetime.timezone.utc)"
      ]
     },
     "execution_count": 61,
     "metadata": {},
     "output_type": "execute_result"
    }
   ],
   "source": [
    "datetime.datetime.strptime(x, \"%a %b %d %H:%M:%S %z %Y\") "
   ]
  },
  {
   "cell_type": "code",
   "execution_count": 89,
   "id": "ac0e69e8",
   "metadata": {},
   "outputs": [],
   "source": [
    "import datetime\n",
    "from pyspark.sql.functions import udf\n",
    "\n",
    "def from_created_at(x):\n",
    "    \"\"\"\n",
    "    parsing format : \"https://docs.python.org/3/library/datetime.html#datetime.date\"\n",
    "    \n",
    "    The valuable of 'x' has a form of 'Thu Oct 21 07:02:44 +0000 2021' \n",
    "    \"\"\"\n",
    "    dt = datetime.datetime.strptime(x, \"%a %b %d %H:%M:%S %z %Y\")\n",
    "    return dt.date().isoformat()\n",
    "\n",
    "from_created_at_udf = udf(lambda x: from_created_at(x))"
   ]
  },
  {
   "cell_type": "code",
   "execution_count": 93,
   "id": "9e34cd93",
   "metadata": {},
   "outputs": [
    {
     "name": "stdout",
     "output_type": "stream",
     "text": [
      "DataFrame[created_at: string, to_date(<lambda>(created_at)): date]\n",
      "+--------------------+-----------------------------+\n",
      "|          created_at|to_date(<lambda>(created_at))|\n",
      "+--------------------+-----------------------------+\n",
      "|Thu Oct 21 07:02:...|                   2021-10-21|\n",
      "+--------------------+-----------------------------+\n",
      "\n"
     ]
    }
   ],
   "source": [
    "from pyspark.sql.functions import to_date\n",
    "\n",
    "dateDF = df.select(col(\"created_at\"), to_date(from_created_at_udf(col(\"created_at\"))))\n",
    "print(dateDF)\n",
    "dateDF.show()"
   ]
  },
  {
   "cell_type": "markdown",
   "id": "8ceacc39",
   "metadata": {},
   "source": [
    "# And. . ."
   ]
  },
  {
   "cell_type": "markdown",
   "id": "346768b5",
   "metadata": {},
   "source": [
    "Of course, there is the TimestampType which is from datetime.datetime as well. <a href=\"https://spark.apache.org/docs/latest/api/python/reference/api/pyspark.sql.types.TimestampType.html#pyspark.sql.types.TimestampType\"> [link] </a> and the usage would be similar.\n"
   ]
  }
 ],
 "metadata": {
  "kernelspec": {
   "display_name": "Python 3",
   "language": "python",
   "name": "python3"
  },
  "language_info": {
   "codemirror_mode": {
    "name": "ipython",
    "version": 3
   },
   "file_extension": ".py",
   "mimetype": "text/x-python",
   "name": "python",
   "nbconvert_exporter": "python",
   "pygments_lexer": "ipython3",
   "version": "3.8.8"
  }
 },
 "nbformat": 4,
 "nbformat_minor": 5
}
