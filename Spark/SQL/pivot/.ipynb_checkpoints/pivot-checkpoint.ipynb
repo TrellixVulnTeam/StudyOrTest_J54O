{
 "cells": [
  {
   "cell_type": "markdown",
   "id": "4faa4010",
   "metadata": {},
   "source": [
    "# Good reference\n",
    "\n",
    "1. Usage with example (<a href='https://spark.apache.org/docs/latest/api/python/reference/api/pyspark.sql.GroupedData.pivot.html#pyspark.sql.GroupedData.pivot'>link</a>)\n",
    "\n",
    "2. Docs (<a href=\"https://spark.apache.org/docs/latest/api/python/reference/api/pyspark.sql.GroupedData.pivot.html#pyspark.sql.GroupedData.pivot\">link</a>)"
   ]
  },
  {
   "cell_type": "code",
   "execution_count": 1,
   "id": "9077203d",
   "metadata": {},
   "outputs": [],
   "source": [
    "from pyspark.sql import SparkSession\n",
    "\n",
    "spark = SparkSession \\\n",
    "    .builder \\\n",
    "    .appName(\"DataFrame.GroupData.pivot\") \\\n",
    "    .getOrCreate()"
   ]
  },
  {
   "cell_type": "code",
   "execution_count": 2,
   "id": "103a8946",
   "metadata": {},
   "outputs": [],
   "source": [
    "columns = [\"year\", \"course\", \"earnings\"]\n",
    "data = [(2012, \"dotNET\", 99920), (2013, \"Python\", 1004000), (2012, \"Java\", 34000)       ]"
   ]
  },
  {
   "cell_type": "code",
   "execution_count": 3,
   "id": "7299edc8",
   "metadata": {},
   "outputs": [
    {
     "name": "stdout",
     "output_type": "stream",
     "text": [
      "+----+------+--------+\n",
      "|year|course|earnings|\n",
      "+----+------+--------+\n",
      "|2012|dotNET|99920   |\n",
      "|2013|Python|1004000 |\n",
      "|2012|Java  |34000   |\n",
      "+----+------+--------+\n",
      "\n"
     ]
    }
   ],
   "source": [
    "df = spark.sparkContext.parallelize(data).toDF(columns)\n",
    "df.show(truncate=False)"
   ]
  },
  {
   "cell_type": "code",
   "execution_count": 4,
   "id": "f7d0d35c",
   "metadata": {},
   "outputs": [
    {
     "name": "stdout",
     "output_type": "stream",
     "text": [
      "+----+------+-----+\n",
      "|year|dotNET|Java |\n",
      "+----+------+-----+\n",
      "|2012|99920 |34000|\n",
      "|2013|0     |0    |\n",
      "+----+------+-----+\n",
      "\n"
     ]
    }
   ],
   "source": [
    "pivotDF = df \\\n",
    "    .groupBy(\"year\") \\\n",
    "    .pivot(\"course\", [\"dotNET\", \"Java\"]) \\\n",
    "    .sum(\"earnings\") \\\n",
    "    .na.fill(0)\n",
    "\n",
    "pivotDF.show(truncate=False)"
   ]
  },
  {
   "cell_type": "code",
   "execution_count": 5,
   "id": "43565842",
   "metadata": {},
   "outputs": [
    {
     "data": {
      "text/plain": [
       "['{\"year\":2012,\"dotNET\":99920,\"Java\":34000}',\n",
       " '{\"year\":2013,\"dotNET\":0,\"Java\":0}']"
      ]
     },
     "execution_count": 5,
     "metadata": {},
     "output_type": "execute_result"
    }
   ],
   "source": [
    "pivotDF.toJSON().collect()"
   ]
  }
 ],
 "metadata": {
  "kernelspec": {
   "display_name": "Python 3",
   "language": "python",
   "name": "python3"
  },
  "language_info": {
   "codemirror_mode": {
    "name": "ipython",
    "version": 3
   },
   "file_extension": ".py",
   "mimetype": "text/x-python",
   "name": "python",
   "nbconvert_exporter": "python",
   "pygments_lexer": "ipython3",
   "version": "3.8.8"
  }
 },
 "nbformat": 4,
 "nbformat_minor": 5
}
