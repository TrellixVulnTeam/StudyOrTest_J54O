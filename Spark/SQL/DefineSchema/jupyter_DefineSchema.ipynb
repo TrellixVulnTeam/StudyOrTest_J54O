{
 "cells": [
  {
   "cell_type": "code",
   "execution_count": 1,
   "id": "5b4c5e0f",
   "metadata": {},
   "outputs": [],
   "source": [
    "from pyspark.sql import SparkSession"
   ]
  },
  {
   "cell_type": "code",
   "execution_count": 2,
   "id": "92d21a2d",
   "metadata": {},
   "outputs": [],
   "source": [
    "spark = SparkSession \\\n",
    "    .builder \\\n",
    "    .appName(\"Define Schema\") \\\n",
    "    .getOrCreate()"
   ]
  },
  {
   "cell_type": "markdown",
   "id": "ca7d200a",
   "metadata": {},
   "source": [
    "# Define Schema\n",
    "<strong> The data will load </strong><br>\n",
    "{\"created_at\":\"2021-10-29T18:10:09\", \"sentiment_level\":\"2\"}"
   ]
  },
  {
   "cell_type": "code",
   "execution_count": 7,
   "id": "9e4d192a",
   "metadata": {},
   "outputs": [],
   "source": [
    "from pyspark.sql.types import StructType, StructField\n",
    "from pyspark.sql.types import TimestampType, IntegerType, StringType"
   ]
  },
  {
   "cell_type": "code",
   "execution_count": 8,
   "id": "e1458b2d",
   "metadata": {},
   "outputs": [],
   "source": [
    "schema = StructType([\n",
    "    StructField(\"created_at\", TimestampType(), True),\n",
    "    StructField(\"sentiment_level\", StringType(), False)\n",
    "])"
   ]
  },
  {
   "cell_type": "code",
   "execution_count": 9,
   "id": "4b240f69",
   "metadata": {},
   "outputs": [
    {
     "data": {
      "text/plain": [
       "DataFrame[created_at: timestamp, sentiment_level: string]"
      ]
     },
     "execution_count": 9,
     "metadata": {},
     "output_type": "execute_result"
    }
   ],
   "source": [
    "DF = spark.read.schema(schema=schema).json(\"./data/sample.txt\")\n",
    "DF"
   ]
  },
  {
   "cell_type": "code",
   "execution_count": 10,
   "id": "3d2ba104",
   "metadata": {},
   "outputs": [
    {
     "name": "stdout",
     "output_type": "stream",
     "text": [
      "+-------------------+---------------+\n",
      "|         created_at|sentiment_level|\n",
      "+-------------------+---------------+\n",
      "|2021-10-29 18:10:09|              2|\n",
      "+-------------------+---------------+\n",
      "\n"
     ]
    }
   ],
   "source": [
    "DF.show()"
   ]
  },
  {
   "cell_type": "markdown",
   "id": "88e8c7e9",
   "metadata": {},
   "source": [
    "## Define sentiment_level as IntegerType\n",
    "\"sentiment_level\" is wrote wrapped in quotus(\"\"). so The Spark can't read this as IntegerType()"
   ]
  },
  {
   "cell_type": "code",
   "execution_count": 14,
   "id": "5dc1726f",
   "metadata": {},
   "outputs": [
    {
     "data": {
      "text/plain": [
       "DataFrame[created_at: timestamp, sentiment_level: int]"
      ]
     },
     "execution_count": 14,
     "metadata": {},
     "output_type": "execute_result"
    }
   ],
   "source": [
    "schema = StructType([\n",
    "    StructField(\"created_at\", TimestampType(), True),\n",
    "    StructField(\"sentiment_level\", IntegerType(), False)\n",
    "])\n",
    "\n",
    "# {\"created_at\":\"2021-10-29T18:10:09\", \"sentiment_level\":\"2\"}\n",
    "DF = spark.read.schema(schema=schema).json(\"./data/sample.txt\")\n",
    "DF"
   ]
  },
  {
   "cell_type": "code",
   "execution_count": 13,
   "id": "8920dcd0",
   "metadata": {},
   "outputs": [
    {
     "name": "stdout",
     "output_type": "stream",
     "text": [
      "+-------------------+---------------+\n",
      "|         created_at|sentiment_level|\n",
      "+-------------------+---------------+\n",
      "|2021-10-29 18:10:09|           null|\n",
      "+-------------------+---------------+\n",
      "\n"
     ]
    }
   ],
   "source": [
    "DF.show()"
   ]
  },
  {
   "cell_type": "code",
   "execution_count": null,
   "id": "c41853f5",
   "metadata": {},
   "outputs": [],
   "source": [
    "schema = StructType([\n",
    "# {\"created_at\":\"2021-10-29T18:10:09\", \"sentiment_level\":\"2\"}\n",
    "DF = spark.read.schema(schema=schema).json(\"./data/sample.txt\")\n",
    "DF"
   ]
  }
 ],
 "metadata": {
  "kernelspec": {
   "display_name": "Python 3",
   "language": "python",
   "name": "python3"
  },
  "language_info": {
   "codemirror_mode": {
    "name": "ipython",
    "version": 3
   },
   "file_extension": ".py",
   "mimetype": "text/x-python",
   "name": "python",
   "nbconvert_exporter": "python",
   "pygments_lexer": "ipython3",
   "version": "3.8.8"
  }
 },
 "nbformat": 4,
 "nbformat_minor": 5
}
