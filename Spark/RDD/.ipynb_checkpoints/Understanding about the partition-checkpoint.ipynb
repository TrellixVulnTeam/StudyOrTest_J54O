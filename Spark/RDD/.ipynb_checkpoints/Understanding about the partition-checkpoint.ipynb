{
 "cells": [
  {
   "cell_type": "markdown",
   "id": "888d759c",
   "metadata": {},
   "source": [
    "## Learned about Partition in the <a href=\"https://luminousmen.com/post/spark-partitions\">link</a>.\n",
    "Highly reccommand you to read this code with the blog link above."
   ]
  },
  {
   "cell_type": "code",
   "execution_count": 30,
   "id": "8c6dafb2",
   "metadata": {},
   "outputs": [],
   "source": [
    "from pyspark.sql import SparkSession\n",
    "from pyspark import SparkContext\n",
    "\n",
    "spark = SparkSession \\\n",
    "    .builder \\\n",
    "    .appName(\"Understanding partition.\") \\\n",
    "    .getOrCreate()"
   ]
  },
  {
   "cell_type": "code",
   "execution_count": 10,
   "id": "4f020d28",
   "metadata": {},
   "outputs": [],
   "source": [
    "import pandas as pd\n",
    "import numpy as np\n",
    "\n",
    "length = 10f\n",
    "\n",
    "# Select each element in Lists.\n",
    "names = np.random.choice(['Bob', 'James', 'Marek', 'Johannes', None], length)\n",
    "amounts = np.random.randint(0, 1000000, length)\n",
    "country = np.random.choice(\n",
    "    ['United Kingdom', 'Poland', 'USA', 'Germany', None], \n",
    "    length\n",
    ")\n",
    "# Create a DataFrame with Pandas.\n",
    "df = pd.DataFrame({'name': names, 'amount': amounts, 'country': country})\n",
    "\n",
    "# Create a DataFrame with given Pandas DF.\n",
    "transactions = spark.createDataFrame(df)"
   ]
  },
  {
   "cell_type": "code",
   "execution_count": 24,
   "id": "61573f37",
   "metadata": {},
   "outputs": [
    {
     "name": "stdout",
     "output_type": "stream",
     "text": [
      "Number of partitions: 8\n",
      "Partitioner: None\n",
      "Partitions structure: [[Row(name=None, amount=673409, country='United Kingdom')], [Row(name='James', amount=844027, country='Poland')], [Row(name='Bob', amount=477544, country=None)], [Row(name='Marek', amount=716152, country='United Kingdom'), Row(name='Bob', amount=813080, country='United Kingdom')], [Row(name=None, amount=508249, country=None)], [Row(name='Johannes', amount=945121, country='Poland')], [Row(name='James', amount=66436, country='USA')], [Row(name='Johannes', amount=771230, country=None), Row(name=None, amount=905639, country=None)]]\n"
     ]
    }
   ],
   "source": [
    "print('Number of partitions: {}'.format(transactions.rdd.getNumPartitions()))\n",
    "print('Partitioner: {}'.format(transactions.rdd.partitioner))\n",
    "print('Partitions structure: {}'.format(transactions.rdd.glom().collect()))"
   ]
  },
  {
   "cell_type": "markdown",
   "id": "19130eb9",
   "metadata": {},
   "source": [
    "# Repartitioning \n",
    "Network cost will be increased!"
   ]
  },
  {
   "cell_type": "code",
   "execution_count": 57,
   "id": "2779fc66",
   "metadata": {},
   "outputs": [
    {
     "name": "stdout",
     "output_type": "stream",
     "text": [
      "Number of partitions: 16\n",
      "Partitions structure: [[], [], [], [], [], [], [], [], [], [], [], [], [Row(name=None, amount=673409, country='United Kingdom'), Row(name='James', amount=844027, country='Poland'), Row(name='Bob', amount=477544, country=None), Row(name='Marek', amount=716152, country='United Kingdom'), Row(name=None, amount=508249, country=None), Row(name='Johannes', amount=945121, country='Poland'), Row(name='James', amount=66436, country='USA'), Row(name='Johannes', amount=771230, country=None)], [Row(name='Bob', amount=813080, country='United Kingdom'), Row(name=None, amount=905639, country=None)], [], []]\n"
     ]
    }
   ],
   "source": [
    "repartitioned = transactions.repartition(16)\n",
    "print('Number of partitions: {}'.format(repartitioned.rdd.getNumPartitions()))\n",
    "print('Partitions structure: {}'.format(repartitioned.rdd.glom().collect()))"
   ]
  },
  {
   "cell_type": "markdown",
   "id": "98c497c2",
   "metadata": {},
   "source": [
    "## Repartitioning by column"
   ]
  },
  {
   "cell_type": "code",
   "execution_count": 59,
   "id": "67700b42",
   "metadata": {},
   "outputs": [
    {
     "name": "stdout",
     "output_type": "stream",
     "text": [
      "Number of partitions: 200\n",
      "Partitions structure: [[], [], [], [], [], [], [], [], [], [], [], [], [], [], [], [], [], [], [], [], [], [], [], [], [], [], [], [], [], [], [], [], [], [], [], [], [], [], [], [], [], [], [Row(name='Bob', amount=477544, country=None), Row(name=None, amount=508249, country=None), Row(name='Johannes', amount=771230, country=None), Row(name=None, amount=905639, country=None)], [], [], [], [], [], [], [], [], [], [], [], [], [], [], [], [], [], [], [], [], [], [], [], [], [], [], [], [], [], [], [], [], [], [], [], [], [], [], [], [], [], [], [], [], [], [], [], [], [], [], [], [], [], [], [], [], [], [], [], [], [], [], [], [], [], [], [], [Row(name='James', amount=66436, country='USA')], [], [], [], [], [], [], [], [], [], [], [], [], [], [], [], [], [], [], [], [], [], [], [], [], [], [], [], [], [], [], [], [], [], [], [], [], [], [], [], [], [], [], [], [], [], [], [], [], [], [], [], [], [], [], [], [], [], [], [], [], [], [], [], [Row(name='James', amount=844027, country='Poland'), Row(name='Johannes', amount=945121, country='Poland')], [], [], [], [], [], [], [], [], [], [], [], [], [], [], [], [], [], [], [], [], [Row(name=None, amount=673409, country='United Kingdom'), Row(name='Marek', amount=716152, country='United Kingdom'), Row(name='Bob', amount=813080, country='United Kingdom')], [], [], [], []]\n"
     ]
    }
   ],
   "source": [
    "repartitioned = transactions.repartition('country')\n",
    "print('Number of partitions: {}'.format(repartitioned.rdd.getNumPartitions()))\n",
    "print('Partitions structure: {}'.format(repartitioned.rdd.glom().collect()))"
   ]
  },
  {
   "cell_type": "markdown",
   "id": "8f14b400",
   "metadata": {},
   "source": [
    "## Coalesce"
   ]
  },
  {
   "cell_type": "code",
   "execution_count": 60,
   "id": "4e193a9d",
   "metadata": {},
   "outputs": [
    {
     "name": "stdout",
     "output_type": "stream",
     "text": [
      "Number of partitions: 2\n",
      "Partitions structure: [[Row(name=None, amount=673409, country='United Kingdom'), Row(name='James', amount=844027, country='Poland'), Row(name='Bob', amount=477544, country=None), Row(name='Marek', amount=716152, country='United Kingdom'), Row(name='Bob', amount=813080, country='United Kingdom')], [Row(name=None, amount=508249, country=None), Row(name='Johannes', amount=945121, country='Poland'), Row(name='James', amount=66436, country='USA'), Row(name='Johannes', amount=771230, country=None), Row(name=None, amount=905639, country=None)]]\n"
     ]
    }
   ],
   "source": [
    "coalesced = transactions.coalesce(2)\n",
    "print('Number of partitions: {}'.format(coalesced.rdd.getNumPartitions()))\n",
    "print('Partitions structure: {}'.format(coalesced.rdd.glom().collect()))"
   ]
  },
  {
   "cell_type": "markdown",
   "id": "b25f650f",
   "metadata": {},
   "source": [
    "# [Reference] \n",
    "##### Dataframe.rdd.glom (<a href=\"https://spark.apache.org/docs/latest/api/python/reference/api/pyspark.RDD.glom.html#pyspark.RDD.glom\">link<a>)\n",
    "Return an RDD created by coalescing all elements within each partition into a list.\n",
    "\n",
    "##### Spark.parallelize (<a href=\"https://spark.apache.org/docs/latest/api/python/reference/api/pyspark.SparkContext.parallelize.html\">link</a>)\n",
    "Distribute a local Python collection to form an RDD. Using range is recommended if the input represents a range for performance."
   ]
  },
  {
   "cell_type": "code",
   "execution_count": 48,
   "id": "86dead3c",
   "metadata": {},
   "outputs": [
    {
     "data": {
      "text/plain": [
       "[[0], [2], [3], [4], [6]]"
      ]
     },
     "execution_count": 48,
     "metadata": {},
     "output_type": "execute_result"
    }
   ],
   "source": [
    "spark.sparkContext.parallelize([0, 2, 3, 4, 6], 5).glom().collect()"
   ]
  },
  {
   "cell_type": "code",
   "execution_count": 49,
   "id": "d46a5073",
   "metadata": {},
   "outputs": [
    {
     "data": {
      "text/plain": [
       "[[], [0], [], [3], [6]]"
      ]
     },
     "execution_count": 49,
     "metadata": {},
     "output_type": "execute_result"
    }
   ],
   "source": [
    "spark.sparkContext.parallelize([0, 3, 6], 5).glom().collect()"
   ]
  },
  {
   "cell_type": "code",
   "execution_count": null,
   "id": "b5502325",
   "metadata": {},
   "outputs": [],
   "source": []
  }
 ],
 "metadata": {
  "kernelspec": {
   "display_name": "Python 3",
   "language": "python",
   "name": "python3"
  },
  "language_info": {
   "codemirror_mode": {
    "name": "ipython",
    "version": 3
   },
   "file_extension": ".py",
   "mimetype": "text/x-python",
   "name": "python",
   "nbconvert_exporter": "python",
   "pygments_lexer": "ipython3",
   "version": "3.8.8"
  }
 },
 "nbformat": 4,
 "nbformat_minor": 5
}
