{
 "cells": [
  {
   "cell_type": "markdown",
   "id": "4fe39e4b",
   "metadata": {},
   "source": [
    "## build a server socket (watting until the a client sends a request)"
   ]
  },
  {
   "cell_type": "code",
   "execution_count": null,
   "id": "dec9a5ef",
   "metadata": {
    "scrolled": true
   },
   "outputs": [],
   "source": [
    "import socket\n",
    "import time \n",
    "\n",
    "host = 'localhost'\n",
    "port = 9999\n",
    "\n",
    "s = socket.socket()\n",
    "s.bind((host, port))\n",
    "\n",
    "s.listen(1)\n",
    "\n",
    "# client will be the Spark.\n",
    "client, addr = s.accept()\n",
    "\n",
    "print(f\"{addr[0]}:{addr[1]} accepted\")\n",
    "\n",
    "num = 0\n",
    "while True:\n",
    "    num += 1\n",
    "    json_data = {\"Name\":\"JIN\" + str(num), \"Type\":\"Person\"}\n",
    "    msg = str(json_data) + '\\n'\n",
    "\n",
    "    # send a mags each 2 seconds.\n",
    "    time.sleep(2)\n",
    "    client.send(msg.encode(\"utf8\"))\n",
    "    print(\"Server sent a message successfully.\")\n",
    "    \n",
    "client.close()\n",
    "s.close()"
   ]
  }
 ],
 "metadata": {
  "kernelspec": {
   "display_name": "Python 3",
   "language": "python",
   "name": "python3"
  },
  "language_info": {
   "codemirror_mode": {
    "name": "ipython",
    "version": 3
   },
   "file_extension": ".py",
   "mimetype": "text/x-python",
   "name": "python",
   "nbconvert_exporter": "python",
   "pygments_lexer": "ipython3",
   "version": "3.8.8"
  }
 },
 "nbformat": 4,
 "nbformat_minor": 5
}
