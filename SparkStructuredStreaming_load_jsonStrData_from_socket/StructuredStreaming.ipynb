{
 "cells": [
  {
   "cell_type": "markdown",
   "id": "fde35be6",
   "metadata": {},
   "source": [
    "# How to load json typed data from socket?\n",
    "\n",
    "\n",
    "There is pyspark.sql.streaming.DataStreamReader.json\n",
    "<a href=\"https://spark.apache.org/docs/latest/api/python/reference/api/pyspark.sql.streaming.DataStreamReader.json.html#pyspark.sql.streaming.DataStreamReader.json\">(reference).</a>\n",
    "However, It could only read from a file stored in a directory. Not Socket until I found at least."
   ]
  },
  {
   "cell_type": "code",
   "execution_count": null,
   "id": "50822652",
   "metadata": {},
   "outputs": [],
   "source": [
    "from pyspark.sql import SparkSession\n",
    "\n",
    "spark = SparkSession \\\n",
    "    .builder \\\n",
    "    .appName(\"Load Streaming Data\") \\\n",
    "    .getOrCreate()"
   ]
  },
  {
   "cell_type": "markdown",
   "id": "12a9430b",
   "metadata": {},
   "source": [
    "## 1. load static data from a sample data"
   ]
  },
  {
   "cell_type": "code",
   "execution_count": null,
   "id": "1b7698fa",
   "metadata": {},
   "outputs": [],
   "source": [
    "from pyspark.sql.types import StructType\n",
    "schema = spark.read.json(\"./sample.json\").schema\n",
    "schema"
   ]
  },
  {
   "cell_type": "markdown",
   "id": "851eac5b",
   "metadata": {},
   "source": [
    "## 2. load Data using Socket"
   ]
  },
  {
   "cell_type": "code",
   "execution_count": null,
   "id": "5a03cf7c",
   "metadata": {},
   "outputs": [],
   "source": [
    "socketDF = spark \\\n",
    "    .readStream \\\n",
    "    .format(\"socket\") \\\n",
    "    .option(\"host\", \"localhost\") \\\n",
    "    .option(\"port\", 9999) \\\n",
    "    .load() "
   ]
  },
  {
   "cell_type": "markdown",
   "id": "2940e818",
   "metadata": {},
   "source": [
    "## 3. Transfom one column DataFrame with JSON STRING to multiple columns DataFrame\n",
    "\n",
    "<a href=\"https://spark.apache.org/docs/3.2.0/sql-ref-functions-builtin.html#json-functions\"> reference about json_tpule()</a>"
   ]
  },
  {
   "cell_type": "code",
   "execution_count": null,
   "id": "8e77cc4f",
   "metadata": {},
   "outputs": [],
   "source": [
    "from pyspark.sql.functions import json_tuple\n",
    "from pyspark.sql.functions import col\n",
    "\n",
    "df = socketDF.select(json_tuple(\"value\", *schema.names)) \\\n",
    "    .toDF(*schema.names)"
   ]
  },
  {
   "cell_type": "markdown",
   "id": "46b98cd2",
   "metadata": {},
   "source": [
    "# Debuging through write Stream "
   ]
  },
  {
   "cell_type": "code",
   "execution_count": null,
   "id": "cc2807bb",
   "metadata": {},
   "outputs": [],
   "source": [
    "launch = df \\\n",
    "    .writeStream \\\n",
    "    .outputMode(\"append\") \\\n",
    "    .queryName(\"df\") \\\n",
    "    .format(\"memory\") \\\n",
    "    .start()"
   ]
  },
  {
   "cell_type": "code",
   "execution_count": null,
   "id": "4fc909ac",
   "metadata": {},
   "outputs": [],
   "source": [
    "# you can confirm result each time with query name of \"df\"\n",
    "spark.sql(\"select * from socketDF\").show()"
   ]
  },
  {
   "cell_type": "code",
   "execution_count": null,
   "id": "3999aff3",
   "metadata": {},
   "outputs": [],
   "source": [
    "# - you can stop connection while running Streaming with stop()\n",
    "# launch.stop()"
   ]
  }
 ],
 "metadata": {
  "kernelspec": {
   "display_name": "Python 3",
   "language": "python",
   "name": "python3"
  },
  "language_info": {
   "codemirror_mode": {
    "name": "ipython",
    "version": 3
   },
   "file_extension": ".py",
   "mimetype": "text/x-python",
   "name": "python",
   "nbconvert_exporter": "python",
   "pygments_lexer": "ipython3",
   "version": "3.8.8"
  }
 },
 "nbformat": 4,
 "nbformat_minor": 5
}
